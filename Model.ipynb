{
 "cells": [
  {
   "attachments": {},
   "cell_type": "markdown",
   "metadata": {},
   "source": [
    "# Inicjalizacja środowiska"
   ]
  },
  {
   "cell_type": "code",
   "execution_count": 76,
   "metadata": {},
   "outputs": [],
   "source": [
    "import pandas as pd\n",
    "import numpy as np\n",
    "import matplotlib.pyplot as plt\n",
    "from sklearn.preprocessing import StandardScaler, MinMaxScaler\n",
    "from sklearn import preprocessing\n",
    "import seaborn as sns\n",
    "import warnings\n",
    "from sklearn.linear_model import LogisticRegression\n",
    "from sklearn.model_selection import train_test_split\n",
    "from sklearn.model_selection import cross_val_score\n",
    "from sklearn import metrics\n",
    "warnings.filterwarnings('ignore')\n",
    "from math import log"
   ]
  },
  {
   "attachments": {},
   "cell_type": "markdown",
   "metadata": {},
   "source": [
    "## Funkcje pomocnicze"
   ]
  },
  {
   "cell_type": "code",
   "execution_count": 178,
   "metadata": {},
   "outputs": [],
   "source": [
    "def searchBestCValue(solver, penalty, X_train, y_train, X_val, y_val, min, max, step):\n",
    "    scores = []\n",
    "    values = []\n",
    "    for C in np.arange(min, max, step):\n",
    "        model = LogisticRegression(random_state=None, solver=solver, penalty=penalty, C=C).fit(X_train, y_train)\n",
    "        y_pred = model.predict(X_val)\n",
    "        #score = metrics.f1_score(y_true=y_val, y_pred=y_pred)\n",
    "        score = metrics.accuracy_score(y_val, y_pred)\n",
    "        #cv_scores = cross_val_score(model, X_train, y_train, cv=5)\n",
    "        #score = np.abs(cv_scores).mean()\n",
    "        scores.append(score)\n",
    "\n",
    "        values.append(C)\n",
    "    return scores, values\n",
    "\n",
    "def testModelParameters(solver, penalty, X_train, y_train, X_val, y_val, plot=True, print_result=True):\n",
    "    #0.1 2 0.01\n",
    "    #0.01, 20, 0.5\n",
    "    val_scores, values = searchBestCValue(solver, penalty, X_train, y_train, X_val, y_val, 0.01, 40, 1)\n",
    "    if (plot):\n",
    "        plt.figure()\n",
    "        plt.plot(values, val_scores)\n",
    "        plt.show()\n",
    "    max = np.max(val_scores)\n",
    "    idx = val_scores.index(max)\n",
    "    C = values[idx]\n",
    "    if(print_result):\n",
    "        print(\"Największa wartość Accuracy na zbiorze walidacyjnym: %.4f \\ndla współczynnika C = %.4f\" %(max, C))\n",
    "    return solver, penalty, C, max\n"
   ]
  },
  {
   "attachments": {},
   "cell_type": "markdown",
   "metadata": {},
   "source": [
    "# Dane wypełnione medianami"
   ]
  },
  {
   "attachments": {},
   "cell_type": "markdown",
   "metadata": {},
   "source": [
    "## Wczytanie danych"
   ]
  },
  {
   "cell_type": "code",
   "execution_count": 79,
   "metadata": {},
   "outputs": [],
   "source": [
    "data = pd.read_csv(\"data/imputated_data.csv\")\n",
    "data = data.drop(['Imputated'], axis=1)\n",
    "data = data.drop(['Unnamed: 0'], axis=1)"
   ]
  },
  {
   "attachments": {},
   "cell_type": "markdown",
   "metadata": {},
   "source": [
    "# Wstępne przetwarzanie danych"
   ]
  },
  {
   "cell_type": "code",
   "execution_count": 122,
   "metadata": {},
   "outputs": [],
   "source": [
    "y = data['Outcome']\n",
    "X = data.drop([\"Outcome\"], axis=1)"
   ]
  },
  {
   "attachments": {},
   "cell_type": "markdown",
   "metadata": {},
   "source": [
    "## Dodanie dodatkowych cech"
   ]
  },
  {
   "attachments": {},
   "cell_type": "markdown",
   "metadata": {},
   "source": [
    "Funkcje interakcji najlepiej sprawdzają się w przypadku cech, które na wykresie cecha1(cecha2) układają się mniej więcej wzdłuż funkcji x=y oraz wraz z x rośnie prawdopodobieństwo wystąpienia pozytywnej decyzji. Z pomocą wykresów korelacji znalazłem jeden taki przypadek: Glucose oraz BMI."
   ]
  },
  {
   "cell_type": "code",
   "execution_count": 74,
   "metadata": {},
   "outputs": [
    {
     "data": {
      "text/plain": [
       "\"\\ndata['InsulinSquared'] = data['Insulin'].apply(lambda x: x**2)\\ndata['GlucoseSquared'] = data['Glucose'].apply(lambda x: x**2)\\ndata['InsulinGlucose'] = data['Insulin'] * data['Glucose']\\ndata['BMISquared'] = data['BMI'].apply(lambda x:(x**2))\\ndata['GlucoseBMI'] = data['Glucose'] * data['BMI']\\ndata['InsulinLog'] = data['Insulin'].apply(lambda x: log(x))\\ndata['BloodPressureSquared'] =  data['BloodPressure'].apply(lambda x: x**2)\\ndata['SkinThicknessBMI'] = data['BMI'] * data['SkinThickness']\\n\""
      ]
     },
     "execution_count": 74,
     "metadata": {},
     "output_type": "execute_result"
    }
   ],
   "source": [
    "'''\n",
    "data['InsulinSquared'] = data['Insulin'].apply(lambda x: x**2)\n",
    "data['GlucoseSquared'] = data['Glucose'].apply(lambda x: x**2)\n",
    "data['InsulinGlucose'] = data['Insulin'] * data['Glucose']\n",
    "data['BMISquared'] = data['BMI'].apply(lambda x:(x**2))\n",
    "data['GlucoseBMI'] = data['Glucose'] * data['BMI']\n",
    "data['InsulinLog'] = data['Insulin'].apply(lambda x: log(x))\n",
    "data['BloodPressureSquared'] =  data['BloodPressure'].apply(lambda x: x**2)\n",
    "data['SkinThicknessBMI'] = data['BMI'] * data['SkinThickness']\n",
    "'''"
   ]
  },
  {
   "cell_type": "code",
   "execution_count": 123,
   "metadata": {},
   "outputs": [],
   "source": [
    "X['InsulinSquared'] = X['Insulin'].apply(lambda x: x**2)\n",
    "X['GlucoseSquared'] = X['Glucose'].apply(lambda x: x**2)\n",
    "X['InsulinGlucose'] = X['Insulin'] * X['Glucose']\n",
    "X['BMISquared'] = X['BMI'].apply(lambda x:(x**2))\n",
    "X['GlucoseBMI'] = X['Glucose'] * X['BMI']\n",
    "X['InsulinLog'] = X['Insulin'].apply(lambda x: log(x))\n",
    "X['BloodPressureSquared'] =  X['BloodPressure'].apply(lambda x: x**2)\n",
    "X['SkinThicknessBMI'] = X['BMI'] * X['SkinThickness']"
   ]
  },
  {
   "attachments": {},
   "cell_type": "markdown",
   "metadata": {},
   "source": [
    "## Normalizacja \n",
    "Normilzację wykonuję tylko na podstawie wyników analizy zbioru z poprzedniego etapu. Cechy posiadające skośne rozkłady to: Pregnancies, Insulin, DiabetesPedigreeFunction oraz Age."
   ]
  },
  {
   "cell_type": "code",
   "execution_count": 124,
   "metadata": {},
   "outputs": [],
   "source": [
    "nscaler = MinMaxScaler() \n",
    "cols_to_norm = ['Pregnancies','Insulin','DiabetesPedigreeFunction','Age']\n",
    "for col in cols_to_norm:\n",
    "    cols= [col]\n",
    "    nscaler.fit(X[cols])\n",
    "    X[cols] = nscaler.transform(X[cols])"
   ]
  },
  {
   "attachments": {},
   "cell_type": "markdown",
   "metadata": {},
   "source": [
    "## Standaryzacja\n",
    "Standaryzacja jest wymagana, ponieważ w dalszych krokach będę korzystać z regularyzacji. Standaryzacji poddaję wszystkie cechy."
   ]
  },
  {
   "cell_type": "code",
   "execution_count": 125,
   "metadata": {},
   "outputs": [],
   "source": [
    "scaler = StandardScaler()\n",
    "cols_to_scale = X.columns.values\n",
    "for col in X.columns.values:\n",
    "    cols= [col]\n",
    "    scaler.fit(X[cols])\n",
    "    X[cols] = scaler.transform(X[cols])"
   ]
  },
  {
   "attachments": {},
   "cell_type": "markdown",
   "metadata": {},
   "source": [
    "## Podział danych\n",
    "* Podział na zbiory X (cehcy opisujące) oraz Y (cecha opisywana). Dla tego zbioru Y to \"Outcome\", czyli diagnoza.\n",
    "* Podział na zbiory Train/Test/Val - procentowy podział w komentarzu funkcji splitDataset()"
   ]
  },
  {
   "cell_type": "code",
   "execution_count": 5,
   "metadata": {},
   "outputs": [],
   "source": [
    "def splitDataset(X, y, random_state=0, print_result=False):\n",
    "    #Podział Train 60%, Test 20%, Val 20%\n",
    "    X_train, X_test, y_train, y_test = train_test_split(X, y, test_size=0.4, random_state=random_state)\n",
    "    #0.5 * 0.4 = 0.2\n",
    "    X_test, X_val, y_test, y_val = train_test_split(X_test, y_test, test_size=0.5, random_state=random_state)\n",
    "    print(\"Zbiór podzielony: TRAIN: %i, VAL: %i, TEST: %i\" % (X_train.shape[0],X_val.shape[0],X_test.shape[0]))\n",
    "    return X_train, y_train, X_test, y_test, X_val, y_val"
   ]
  },
  {
   "cell_type": "code",
   "execution_count": 201,
   "metadata": {},
   "outputs": [
    {
     "name": "stdout",
     "output_type": "stream",
     "text": [
      "Zbiór podzielony: TRAIN: 451, VAL: 151, TEST: 150\n"
     ]
    }
   ],
   "source": [
    "X_train, y_train, X_test, y_test, X_val, y_val = splitDataset(X, y, random_state=5, print_result=True)"
   ]
  },
  {
   "attachments": {},
   "cell_type": "markdown",
   "metadata": {},
   "source": [
    "### Wybór ilości cech"
   ]
  },
  {
   "attachments": {},
   "cell_type": "markdown",
   "metadata": {},
   "source": [
    "Do doboru cech wykorzystuje metodę zachłanną. Model ma jednak włączoną regularyzację Lasso, dzięki czemu przy okazji będzie pozbywał się lub redukował wpływ tych mniej znaczących cech zmniejszając ich szansę na zostanie wybraną w danym etapie. Dla każdego etapu dodatkowo liczone jest współczynnik regularyzacji oferujący najlepszy wynik miary Accuracy. Zaimplementowałem to, ponieważ dla różnych ilości cech modele działają najlepiej dla różnych wartości C. Ponieważ regularyzacja jest stosowana za każdym razem to nie trzeba się obawiać overfittingu (choć później dla pewności należy sprawdzić), dzięki czemu zastosowanie samej miary Accuracy powinno wystarczyć do tego zadania."
   ]
  },
  {
   "cell_type": "code",
   "execution_count": 193,
   "metadata": {},
   "outputs": [
    {
     "name": "stdout",
     "output_type": "stream",
     "text": [
      "Dla 1 cech najlepsza średnia wartość walidacji krzyżowej wynosi 0.7616 dla zbioru cech:\n",
      "['GlucoseBMI']\n",
      "Dla najlepszego współczynnika C = 0.010000 średnia skuteczność przy walidacji krzyżowej wynosi 0.7616\n",
      "___________________________________________________________________________\n",
      "Dla 2 cech najlepsza średnia wartość walidacji krzyżowej wynosi 0.7748 dla zbioru cech:\n",
      "['GlucoseBMI', 'Pregnancies']\n",
      "Dla najlepszego współczynnika C = 1.010000 średnia skuteczność przy walidacji krzyżowej wynosi 0.7748\n",
      "___________________________________________________________________________\n",
      "Dla 3 cech najlepsza średnia wartość walidacji krzyżowej wynosi 0.7748 dla zbioru cech:\n",
      "['GlucoseBMI', 'Pregnancies', 'SkinThickness']\n",
      "Dla najlepszego współczynnika C = 1.010000 średnia skuteczność przy walidacji krzyżowej wynosi 0.7748\n",
      "___________________________________________________________________________\n",
      "Dla 4 cech najlepsza średnia wartość walidacji krzyżowej wynosi 0.7748 dla zbioru cech:\n",
      "['GlucoseBMI', 'Pregnancies', 'SkinThickness', 'Insulin']\n",
      "Dla najlepszego współczynnika C = 1.010000 średnia skuteczność przy walidacji krzyżowej wynosi 0.7748\n",
      "___________________________________________________________________________\n",
      "Dla 5 cech najlepsza średnia wartość walidacji krzyżowej wynosi 0.7815 dla zbioru cech:\n",
      "['GlucoseBMI', 'Pregnancies', 'SkinThickness', 'Insulin', 'BloodPressure']\n",
      "Dla najlepszego współczynnika C = 8.010000 średnia skuteczność przy walidacji krzyżowej wynosi 0.7815\n",
      "___________________________________________________________________________\n",
      "Dla 6 cech najlepsza średnia wartość walidacji krzyżowej wynosi 0.7881 dla zbioru cech:\n",
      "['GlucoseBMI', 'Pregnancies', 'SkinThickness', 'Insulin', 'BloodPressure', 'InsulinGlucose']\n",
      "Dla najlepszego współczynnika C = 4.010000 średnia skuteczność przy walidacji krzyżowej wynosi 0.7881\n",
      "___________________________________________________________________________\n",
      "Dla 7 cech najlepsza średnia wartość walidacji krzyżowej wynosi 0.7815 dla zbioru cech:\n",
      "['GlucoseBMI', 'Pregnancies', 'SkinThickness', 'Insulin', 'BloodPressure', 'InsulinGlucose', 'DiabetesPedigreeFunction']\n",
      "Dla najlepszego współczynnika C = 2.010000 średnia skuteczność przy walidacji krzyżowej wynosi 0.7815\n",
      "___________________________________________________________________________\n",
      "Dla 8 cech najlepsza średnia wartość walidacji krzyżowej wynosi 0.7881 dla zbioru cech:\n",
      "['GlucoseBMI', 'Pregnancies', 'SkinThickness', 'Insulin', 'BloodPressure', 'InsulinGlucose', 'DiabetesPedigreeFunction', 'BMI']\n",
      "Dla najlepszego współczynnika C = 3.010000 średnia skuteczność przy walidacji krzyżowej wynosi 0.7881\n",
      "___________________________________________________________________________\n",
      "Dla 9 cech najlepsza średnia wartość walidacji krzyżowej wynosi 0.7881 dla zbioru cech:\n",
      "['GlucoseBMI', 'Pregnancies', 'SkinThickness', 'Insulin', 'BloodPressure', 'InsulinGlucose', 'DiabetesPedigreeFunction', 'BMI', 'SkinThicknessBMI']\n",
      "Dla najlepszego współczynnika C = 3.010000 średnia skuteczność przy walidacji krzyżowej wynosi 0.7881\n",
      "___________________________________________________________________________\n",
      "Dla 10 cech najlepsza średnia wartość walidacji krzyżowej wynosi 0.7881 dla zbioru cech:\n",
      "['GlucoseBMI', 'Pregnancies', 'SkinThickness', 'Insulin', 'BloodPressure', 'InsulinGlucose', 'DiabetesPedigreeFunction', 'BMI', 'SkinThicknessBMI', 'Age']\n",
      "Dla najlepszego współczynnika C = 9.010000 średnia skuteczność przy walidacji krzyżowej wynosi 0.7881\n",
      "___________________________________________________________________________\n",
      "Dla 11 cech najlepsza średnia wartość walidacji krzyżowej wynosi 0.7881 dla zbioru cech:\n",
      "['GlucoseBMI', 'Pregnancies', 'SkinThickness', 'Insulin', 'BloodPressure', 'InsulinGlucose', 'DiabetesPedigreeFunction', 'BMI', 'SkinThicknessBMI', 'Age', 'BMISquared']\n",
      "Dla najlepszego współczynnika C = 2.010000 średnia skuteczność przy walidacji krzyżowej wynosi 0.7881\n",
      "___________________________________________________________________________\n",
      "Dla 12 cech najlepsza średnia wartość walidacji krzyżowej wynosi 0.7881 dla zbioru cech:\n",
      "['GlucoseBMI', 'Pregnancies', 'SkinThickness', 'Insulin', 'BloodPressure', 'InsulinGlucose', 'DiabetesPedigreeFunction', 'BMI', 'SkinThicknessBMI', 'Age', 'BMISquared', 'Glucose']\n",
      "Dla najlepszego współczynnika C = 3.010000 średnia skuteczność przy walidacji krzyżowej wynosi 0.7881\n",
      "___________________________________________________________________________\n",
      "Dla 13 cech najlepsza średnia wartość walidacji krzyżowej wynosi 0.7881 dla zbioru cech:\n",
      "['GlucoseBMI', 'Pregnancies', 'SkinThickness', 'Insulin', 'BloodPressure', 'InsulinGlucose', 'DiabetesPedigreeFunction', 'BMI', 'SkinThicknessBMI', 'Age', 'BMISquared', 'Glucose', 'InsulinSquared']\n",
      "Dla najlepszego współczynnika C = 2.010000 średnia skuteczność przy walidacji krzyżowej wynosi 0.7881\n",
      "___________________________________________________________________________\n",
      "Dla 14 cech najlepsza średnia wartość walidacji krzyżowej wynosi 0.7881 dla zbioru cech:\n",
      "['GlucoseBMI', 'Pregnancies', 'SkinThickness', 'Insulin', 'BloodPressure', 'InsulinGlucose', 'DiabetesPedigreeFunction', 'BMI', 'SkinThicknessBMI', 'Age', 'BMISquared', 'Glucose', 'InsulinSquared', 'GlucoseSquared']\n",
      "Dla najlepszego współczynnika C = 2.010000 średnia skuteczność przy walidacji krzyżowej wynosi 0.7881\n",
      "___________________________________________________________________________\n",
      "Dla 15 cech najlepsza średnia wartość walidacji krzyżowej wynosi 0.7881 dla zbioru cech:\n",
      "['GlucoseBMI', 'Pregnancies', 'SkinThickness', 'Insulin', 'BloodPressure', 'InsulinGlucose', 'DiabetesPedigreeFunction', 'BMI', 'SkinThicknessBMI', 'Age', 'BMISquared', 'Glucose', 'InsulinSquared', 'GlucoseSquared', 'InsulinLog']\n",
      "Dla najlepszego współczynnika C = 3.010000 średnia skuteczność przy walidacji krzyżowej wynosi 0.7881\n",
      "___________________________________________________________________________\n",
      "Dla 16 cech najlepsza średnia wartość walidacji krzyżowej wynosi 0.7881 dla zbioru cech:\n",
      "['GlucoseBMI', 'Pregnancies', 'SkinThickness', 'Insulin', 'BloodPressure', 'InsulinGlucose', 'DiabetesPedigreeFunction', 'BMI', 'SkinThicknessBMI', 'Age', 'BMISquared', 'Glucose', 'InsulinSquared', 'GlucoseSquared', 'InsulinLog', 'BloodPressureSquared']\n",
      "Dla najlepszego współczynnika C = 3.010000 średnia skuteczność przy walidacji krzyżowej wynosi 0.7881\n",
      "___________________________________________________________________________\n"
     ]
    }
   ],
   "source": [
    "features = X.columns.values.tolist()\n",
    "result_features = []\n",
    "\n",
    "cv_scores = []\n",
    "best_c_cv_scores = []\n",
    "feature_numbers = []\n",
    "\n",
    "model = LogisticRegression(random_state=0, solver='liblinear', penalty='l1', C=4.1)\n",
    "for n in range(0,len(features)):\n",
    "    tmp_max_score = 0\n",
    "    tmp_test_score = 0\n",
    "    best_features = []\n",
    "    for i,val in enumerate(features):\n",
    "        tmp_features = result_features.copy()\n",
    "        tmp_features.append(val)\n",
    "        #score = cross_val_score(model, X_train[tmp_features], y_train)\n",
    "        #score = np.abs(score).mean()\n",
    "        solver, penalty, C, max = testModelParameters('liblinear','l1', X_train[tmp_features], y_train, X_val[tmp_features], y_val, plot=False, print_result=False)\n",
    "        score = max\n",
    "        if( score > tmp_max_score ):\n",
    "            tmp_max_score = score\n",
    "            best_features = tmp_features\n",
    "    result_features = best_features\n",
    "    print(\"Dla %i cech najlepsza średnia wartość walidacji krzyżowej wynosi %.4f dla zbioru cech:\\n%s\" % (len(best_features), tmp_max_score, str(best_features)))\n",
    "    cv_scores.append(tmp_max_score)\n",
    "    feature_numbers.append(len(best_features))\n",
    "    solver, penalty, C, max = testModelParameters('liblinear','l1', X_train[best_features], y_train, X_val[best_features], y_val, plot=False, print_result=False)\n",
    "    best_c_cv_scores.append(max)\n",
    "    print(\"Dla najlepszego współczynnika C = %f średnia skuteczność przy walidacji krzyżowej wynosi %.4f\" % (C,max))\n",
    "    print(\"___________________________________________________________________________\")\n",
    "    features.remove(best_features[len(best_features)-1])"
   ]
  },
  {
   "cell_type": "code",
   "execution_count": 194,
   "metadata": {},
   "outputs": [
    {
     "data": {
      "image/png": "[encoded data removed]",
      "text/plain": [
       "<Figure size 432x288 with 1 Axes>"
      ]
     },
     "metadata": {
      "needs_background": "light"
     },
     "output_type": "display_data"
    }
   ],
   "source": [
    "plt.figure()\n",
    "plt.plot(feature_numbers, cv_scores)\n",
    "plt.show()"
   ]
  },
  {
   "cell_type": "code",
   "execution_count": 199,
   "metadata": {},
   "outputs": [],
   "source": [
    "features = ['GlucoseBMI', 'BMI', 'SkinThickness', 'DiabetesPedigreeFunction', 'Insulin', 'InsulinGlucose', 'InsulinSquared', 'InsulinLog'] #0.815\n",
    "#features = ['GlucoseBMI', 'Age', 'BloodPressure', 'GlucoseSquared', 'Glucose', 'SkinThicknessBMI', 'BMI']\n"
   ]
  },
  {
   "attachments": {},
   "cell_type": "markdown",
   "metadata": {},
   "source": [
    "# Dobór parametrów"
   ]
  },
  {
   "attachments": {},
   "cell_type": "markdown",
   "metadata": {},
   "source": [
    "## Metoda regularyzacji\n",
    "Ponieważ cechy są dobrane to model nie wymaga już redukcji ich wpływu lub usuwania, więc metoda Lasso nie jest tutaj oczywistym wyborem. Klasa LogisticRegression dla algorytmu liblinear oferuje regularyzacje L1 oraz L2. Wyboru można dokonać prostym porównaniem tych dwóch."
   ]
  },
  {
   "cell_type": "code",
   "execution_count": 200,
   "metadata": {},
   "outputs": [
    {
     "data": {
      "image/png": "[encoded data removed]",
      "text/plain": [
       "<Figure size 432x288 with 1 Axes>"
      ]
     },
     "metadata": {
      "needs_background": "light"
     },
     "output_type": "display_data"
    },
    {
     "name": "stdout",
     "output_type": "stream",
     "text": [
      "Największa wartość Accuracy na zbiorze walidacyjnym: 0.7682 \n",
      "dla współczynnika C = 1.0100\n"
     ]
    }
   ],
   "source": [
    "solver, penalty, C, max = testModelParameters('liblinear','l1', X_train[features], y_train, X_val[features], y_val)"
   ]
  },
  {
   "cell_type": "code",
   "execution_count": 181,
   "metadata": {},
   "outputs": [
    {
     "data": {
      "image/png": "[encoded data removed]",
      "text/plain": [
       "<Figure size 432x288 with 1 Axes>"
      ]
     },
     "metadata": {
      "needs_background": "light"
     },
     "output_type": "display_data"
    },
    {
     "name": "stdout",
     "output_type": "stream",
     "text": [
      "Największa wartość Accuracy na zbiorze walidacyjnym: 0.8146 \n",
      "dla współczynnika C = 1.0100\n"
     ]
    }
   ],
   "source": [
    "solver, penalty, C, max = testModelParameters('liblinear','l2', X_train[features], y_train, X_val[features], y_val)"
   ]
  },
  {
   "attachments": {},
   "cell_type": "markdown",
   "metadata": {},
   "source": [
    "# Wynik, czyli teoretycznie najlepszy model"
   ]
  },
  {
   "cell_type": "code",
   "execution_count": 168,
   "metadata": {},
   "outputs": [],
   "source": [
    "model = LogisticRegression(random_state=0, solver='liblinear', penalty='l1', C=10.01).fit(X_train[features], y_train)"
   ]
  },
  {
   "cell_type": "code",
   "execution_count": 169,
   "metadata": {},
   "outputs": [
    {
     "data": {
      "text/plain": [
       "array([[ 0.23543383,  0.30818023,  0.06787657, -0.4722919 ,  1.27586321,\n",
       "        -0.07428147,  0.46614032]])"
      ]
     },
     "execution_count": 169,
     "metadata": {},
     "output_type": "execute_result"
    }
   ],
   "source": [
    "model.coef_"
   ]
  },
  {
   "cell_type": "code",
   "execution_count": 170,
   "metadata": {},
   "outputs": [
    {
     "data": {
      "text/plain": [
       "[<matplotlib.lines.Line2D at 0x1f6bd5fa230>]"
      ]
     },
     "execution_count": 170,
     "metadata": {},
     "output_type": "execute_result"
    },
    {
     "data": {
      "image/png": "[encoded data removed]",
      "text/plain": [
       "<Figure size 432x288 with 1 Axes>"
      ]
     },
     "metadata": {
      "needs_background": "light"
     },
     "output_type": "display_data"
    }
   ],
   "source": [
    "sorted = X_test.sort_values(by=\"GlucoseBMI\")\n",
    "model_values = (model.predict_proba(sorted[features]))\n",
    "model_values[:,1]\n",
    "plt.plot(sorted['GlucoseBMI'], model_values[:,1])"
   ]
  },
  {
   "attachments": {},
   "cell_type": "markdown",
   "metadata": {},
   "source": [
    "# Analiza utworzonego modelu"
   ]
  },
  {
   "cell_type": "code",
   "execution_count": 182,
   "metadata": {},
   "outputs": [],
   "source": [
    "model = LogisticRegression(solver='liblinear', penalty='l1', C=2.01).fit(X_train[features], y_train) #4.1"
   ]
  },
  {
   "cell_type": "code",
   "execution_count": 183,
   "metadata": {},
   "outputs": [],
   "source": [
    "y_pred = model.predict(X_test[features])"
   ]
  },
  {
   "cell_type": "code",
   "execution_count": 184,
   "metadata": {},
   "outputs": [],
   "source": [
    "accuracy = metrics.accuracy_score(y_test, y_pred)\n",
    "precision = metrics.precision_score(y_test, y_pred)\n",
    "recall = metrics.recall_score(y_test, y_pred)\n",
    "f1score = metrics.f1_score(y_test, y_pred)"
   ]
  },
  {
   "cell_type": "code",
   "execution_count": 185,
   "metadata": {},
   "outputs": [
    {
     "name": "stdout",
     "output_type": "stream",
     "text": [
      "Accuracy: 0.780000\n",
      "Precision: 0.735294\n",
      "Recall: 0.510204\n",
      "F1Score: 0.602410\n"
     ]
    }
   ],
   "source": [
    "print(\"Accuracy: %f\\nPrecision: %f\\nRecall: %f\\nF1Score: %f\" % (accuracy, precision, recall, f1score))"
   ]
  },
  {
   "cell_type": "code",
   "execution_count": 176,
   "metadata": {},
   "outputs": [
    {
     "data": {
      "text/plain": [
       "array([[88, 13],\n",
       "       [20, 29]], dtype=int64)"
      ]
     },
     "execution_count": 176,
     "metadata": {},
     "output_type": "execute_result"
    }
   ],
   "source": [
    "metrics.confusion_matrix(y_test, y_pred)"
   ]
  },
  {
   "cell_type": "code",
   "execution_count": 159,
   "metadata": {},
   "outputs": [
    {
     "name": "stdout",
     "output_type": "stream",
     "text": [
      "[0.78021978 0.75555556 0.73333333 0.74444444 0.73333333]\n"
     ]
    }
   ],
   "source": [
    "print(cross_val_score(model, X_train, y_train))"
   ]
  },
  {
   "cell_type": "code",
   "execution_count": 160,
   "metadata": {},
   "outputs": [
    {
     "data": {
      "text/plain": [
       "array([-0.71581481])"
      ]
     },
     "execution_count": 160,
     "metadata": {},
     "output_type": "execute_result"
    }
   ],
   "source": [
    "model.intercept_"
   ]
  },
  {
   "cell_type": "code",
   "execution_count": 161,
   "metadata": {},
   "outputs": [
    {
     "data": {
      "text/plain": [
       "array([0, 1], dtype=int64)"
      ]
     },
     "execution_count": 161,
     "metadata": {},
     "output_type": "execute_result"
    }
   ],
   "source": [
    "model.classes_"
   ]
  },
  {
   "cell_type": "code",
   "execution_count": 46,
   "metadata": {},
   "outputs": [
    {
     "data": {
      "text/plain": [
       "array([[62, 39],\n",
       "       [ 3, 46]], dtype=int64)"
      ]
     },
     "execution_count": 46,
     "metadata": {},
     "output_type": "execute_result"
    }
   ],
   "source": [
    "y_pred = 1*model.predict_proba(X_test[features])[:,1] > 0.2\n",
    "metrics.confusion_matrix(y_test, y_pred)"
   ]
  },
  {
   "cell_type": "code",
   "execution_count": 48,
   "metadata": {},
   "outputs": [
    {
     "name": "stdout",
     "output_type": "stream",
     "text": [
      "[[0.4962212 0.5037788]]\n",
      "[1]\n",
      "0.31716682338847013\n",
      "1\n"
     ]
    }
   ],
   "source": [
    "idx = 8\n",
    "model = LogisticRegression(random_state=0, solver='liblinear', penalty='l1',C=1.69).fit(X_train, y_train)\n",
    "prediction = model.predict_proba(X.iloc[idx,:].values.reshape(1,-1))\n",
    "print(prediction)\n",
    "prediction = model.predict(X.iloc[idx,:].values.reshape(1,-1))\n",
    "print(prediction)\n",
    "pinw = np.linalg.pinv(X_train)\n",
    "w = np.dot(pinw,y_train)\n",
    "prediction = (w*X.iloc[idx,:]).sum()\n",
    "print(prediction)\n",
    "print(y.iloc[idx])"
   ]
  },
  {
   "cell_type": "code",
   "execution_count": 55,
   "metadata": {},
   "outputs": [
    {
     "name": "stdout",
     "output_type": "stream",
     "text": [
      "Metoda macierzowa\n",
      "[[82 17]\n",
      " [22 30]]\n",
      "LogisticRegression\n",
      "[[88 11]\n",
      " [21 31]]\n"
     ]
    }
   ],
   "source": [
    "print(\"Metoda macierzowa\")\n",
    "y_pred = ((w*X_val).sum(axis=1) > 0.1) * 1\n",
    "print(metrics.confusion_matrix(y_val, y_pred))\n",
    "\n",
    "print(\"LogisticRegression\")\n",
    "model = LogisticRegression(random_state=0, solver='liblinear', penalty='l1',C=4.51).fit(X_train, y_train)\n",
    "y_pred = model.predict(X_val)\n",
    "print(metrics.confusion_matrix(y_val, y_pred))"
   ]
  },
  {
   "cell_type": "code",
   "execution_count": 58,
   "metadata": {},
   "outputs": [
    {
     "name": "stdout",
     "output_type": "stream",
     "text": [
      "[[ 0.47741912  0.58267458  0.00273318  0.0037763   0.          0.67468893\n",
      "   0.26515814  0.03434957 -0.17250796  0.          0.         -0.49765947\n",
      "   0.68879295 -0.08909132  0.          0.        ]]\n"
     ]
    },
    {
     "data": {
      "text/plain": [
       "0.7379564879564879"
      ]
     },
     "execution_count": 58,
     "metadata": {},
     "output_type": "execute_result"
    }
   ],
   "source": [
    "model = LogisticRegression(random_state=0, solver='liblinear', penalty='l1',C=1.01).fit(X_train, y_train)\n",
    "model.score(X_test, y_test)\n",
    "print(model.coef_)\n",
    "y_pred = model.predict(X_val)\n",
    "metrics.roc_auc_score(y_val,y_pred )"
   ]
  },
  {
   "cell_type": "code",
   "execution_count": 59,
   "metadata": {},
   "outputs": [
    {
     "name": "stdout",
     "output_type": "stream",
     "text": [
      "[0.75496689 0.73509934 0.78       0.78666667 0.76666667]\n",
      "[[ 4.77818310e-01  6.47220224e-01  1.60081945e-02  1.01781806e-03\n",
      "   0.00000000e+00  1.09090023e+00  2.70578177e-01  3.14115864e-02\n",
      "  -1.81592986e-01  0.00000000e+00  0.00000000e+00 -8.53637568e-01\n",
      "   6.06285758e-01 -9.02086068e-02  0.00000000e+00  0.00000000e+00]]\n"
     ]
    }
   ],
   "source": [
    "\n",
    "model = LogisticRegression(random_state=None, solver='liblinear', penalty='l1', C=1.49).fit(X_train, y_train)\n",
    "scores = cross_val_score(model, X, y, cv=5 )\n",
    "print(scores)\n",
    "print(model.coef_)"
   ]
  },
  {
   "cell_type": "code",
   "execution_count": 36,
   "metadata": {},
   "outputs": [
    {
     "data": {
      "text/plain": [
       "array([0.7615894 , 0.74834437, 0.76      , 0.78666667, 0.77333333])"
      ]
     },
     "execution_count": 36,
     "metadata": {},
     "output_type": "execute_result"
    }
   ],
   "source": [
    "\n",
    "scores = cross_val_score(model, X, y, cv=5)\n",
    "scores"
   ]
  },
  {
   "attachments": {},
   "cell_type": "markdown",
   "metadata": {},
   "source": [
    "# Testowanie modelu #\n",
    "#TODO"
   ]
  },
  {
   "attachments": {},
   "cell_type": "markdown",
   "metadata": {},
   "source": [
    "# Wypełnienie braków przy użyciu regresji\n",
    "#TODO"
   ]
  }
 ],
 "metadata": {
  "kernelspec": {
   "display_name": "Python 3",
   "language": "python",
   "name": "python3"
  },
  "language_info": {
   "codemirror_mode": {
    "name": "ipython",
    "version": 3
   },
   "file_extension": ".py",
   "mimetype": "text/x-python",
   "name": "python",
   "nbconvert_exporter": "python",
   "pygments_lexer": "ipython3",
   "version": "3.10.5"
  },
  "orig_nbformat": 4,
  "vscode": {
   "interpreter": {
    "hash": "87516fdcb08f36a8cf8ba7189b4412414eaea80f5448517d57bf2e649f1a5344"
   }
  }
 },
 "nbformat": 4,
 "nbformat_minor": 2
}
