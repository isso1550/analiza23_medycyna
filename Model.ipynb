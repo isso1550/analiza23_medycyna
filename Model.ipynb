{
 "cells": [
  {
   "attachments": {},
   "cell_type": "markdown",
   "metadata": {},
   "source": [
    "# Inicjalizacja środowiska"
   ]
  },
  {
   "cell_type": "code",
   "execution_count": 2,
   "metadata": {},
   "outputs": [],
   "source": [
    "import pandas as pd\n",
    "import numpy as np\n",
    "import matplotlib.pyplot as plt\n",
    "import seaborn as sns\n",
    "import warnings\n",
    "from sklearn.linear_model import LogisticRegression\n",
    "from sklearn.model_selection import train_test_split\n",
    "from sklearn.model_selection import cross_val_score\n",
    "warnings.filterwarnings('ignore')\n",
    "from math import log"
   ]
  },
  {
   "attachments": {},
   "cell_type": "markdown",
   "metadata": {},
   "source": [
    "## Funkcje pomocnicze"
   ]
  },
  {
   "cell_type": "code",
   "execution_count": null,
   "metadata": {},
   "outputs": [],
   "source": [
    "def searchBestCValue(solver, penalty, X_train, y_train, X_val, y_val, min, max, step):\n",
    "    val_scores = []\n",
    "    train_scores = []\n",
    "    values = []\n",
    "    for C in np.arange(min, max, step):\n",
    "        model = LogisticRegression(random_state=None, solver=solver, penalty=penalty, C=C).fit(X_train, y_train)\n",
    "        score = model.score(X_val, y_val)\n",
    "        val_scores.append(score)\n",
    "        score = model.score(X_train, y_train)\n",
    "        train_scores.append(score)\n",
    "        values.append(C)\n",
    "    return val_scores, train_scores, values\n",
    "\n",
    "def testModelParameters(solver, penalty, X_train, y_train, X_val, y_val, plot=True, print_result=True):\n",
    "    #0.1 2 0.01\n",
    "    #0.01, 20, 0.5\n",
    "    val_scores, train_scores, values = searchBestCValue('liblinear', 'l1', X_train, y_train, X_val, y_val, 0.01, 20, 0.5)\n",
    "    if (plot):\n",
    "        plt.figure()\n",
    "        plt.plot(values, val_scores)\n",
    "        plt.plot(values, train_scores)\n",
    "        plt.show()\n",
    "    max = np.max(val_scores)\n",
    "    idx = val_scores.index(max)\n",
    "    C = values[idx]\n",
    "    if(print_result):\n",
    "        print(\"Największa skutecznośc na zbiorze walidacyjnym: %.4f \\ndla współczynnika C = %.4f\" %(max, C))\n",
    "    return solver, penalty, C, max\n"
   ]
  },
  {
   "attachments": {},
   "cell_type": "markdown",
   "metadata": {},
   "source": [
    "# Dane wypełnione medianami"
   ]
  },
  {
   "attachments": {},
   "cell_type": "markdown",
   "metadata": {},
   "source": [
    "## Wczytanie danych"
   ]
  },
  {
   "cell_type": "code",
   "execution_count": 4,
   "metadata": {},
   "outputs": [],
   "source": [
    "data = pd.read_csv(\"data/imputated_data.csv\")\n",
    "data = data.drop(['Imputated'], axis=1)\n",
    "data = data.drop(['Unnamed: 0'], axis=1)"
   ]
  },
  {
   "attachments": {},
   "cell_type": "markdown",
   "metadata": {},
   "source": [
    "## Dodanie dodatkowych cech"
   ]
  },
  {
   "attachments": {},
   "cell_type": "markdown",
   "metadata": {},
   "source": [
    "Funkcje interakcji najlepiej sprawdzają się w przypadku cech, które na wykresie cecha1(cecha2) układają się mniej więcej wzdłuż funkcji x=y oraz wraz z x rośnie prawdopodobieństwo wystąpienia pozytywnej decyzji. Z pomocą wykresów korelacji znalazłem jeden taki przypadek: Glucose oraz BMI."
   ]
  },
  {
   "cell_type": "code",
   "execution_count": 110,
   "metadata": {},
   "outputs": [],
   "source": [
    "data['InsulinSquared'] = data['Insulin'].apply(lambda x: x**2)\n",
    "data['GlucoseSquared'] = data['Glucose'].apply(lambda x: x**2)\n",
    "data['InsulinGlucose'] = data['Insulin'] * data['Glucose']\n",
    "data['BMISquared'] = data['BMI'].apply(lambda x:(x**2))\n",
    "data['GlucoseBMI'] = data['Glucose'] * data['BMI']\n",
    "data['InsulinLog'] = data['Insulin'].apply(lambda x: log(x))\n",
    "data['BloodPressureSquared'] =  data['BloodPressure'].apply(lambda x: x**2)\n",
    "data['SkinThicknessBMI'] = data['BMI'] * data['SkinThickness']"
   ]
  },
  {
   "attachments": {},
   "cell_type": "markdown",
   "metadata": {},
   "source": [
    "## Podział danych\n",
    "* Podział na zbiory X (cehcy opisujące) oraz Y (cecha opisywana). Dla tego zbioru Y to \"Outcome\", czyli diagnoza.\n",
    "* Podział na zbiory Train/Test/Val - procentowy podział w komentarzu funkcji splitDataset()"
   ]
  },
  {
   "cell_type": "code",
   "execution_count": 6,
   "metadata": {},
   "outputs": [],
   "source": [
    "def splitDataset(X, y, random_state=0, print_result=False):\n",
    "    #Podział Train 60%, Test 20%, Val 20%\n",
    "    X_train, X_test, y_train, y_test = train_test_split(X, y, test_size=0.4, random_state=0)\n",
    "    #0.5 * 0.4 = 0.2\n",
    "    X_test, X_val, y_test, y_val = train_test_split(X_test, y_test, test_size=0.5, random_state=0)\n",
    "    print(\"Zbiór podzielony: TRAIN: %i, VAL: %i, TEST: %i\" % (X_train.shape[0],X_val.shape[0],X_test.shape[0]))\n",
    "    return X_train, y_train, X_test, y_test, X_val, y_val"
   ]
  },
  {
   "cell_type": "code",
   "execution_count": 111,
   "metadata": {},
   "outputs": [],
   "source": [
    "y = data['Outcome']\n",
    "X = data.drop([\"Outcome\"], axis=1)"
   ]
  },
  {
   "cell_type": "code",
   "execution_count": 112,
   "metadata": {},
   "outputs": [
    {
     "name": "stdout",
     "output_type": "stream",
     "text": [
      "Zbiór podzielony: TRAIN: 451, VAL: 151, TEST: 150\n"
     ]
    }
   ],
   "source": [
    "X_train, y_train, X_test, y_test, X_val, y_val = splitDataset(X, y, 0, print_result=True)"
   ]
  },
  {
   "attachments": {},
   "cell_type": "markdown",
   "metadata": {},
   "source": [
    "### Wybór ilości cech"
   ]
  },
  {
   "cell_type": "code",
   "execution_count": 124,
   "metadata": {},
   "outputs": [
    {
     "name": "stdout",
     "output_type": "stream",
     "text": [
      "Dla tego etapu najlepszy wynik wynosi cv_score: 0.7537 , test_score: 0.7467 dla zbioru cech:\n",
      "['GlucoseBMI']\n",
      "Dla najlepszego współczynnika C = 0.510000 maksymalna skuteczność na zbiorze walidacyjnym wynosi 0.7881\n",
      "___________________________________________________________________________\n",
      "Dla tego etapu najlepszy wynik wynosi cv_score: 0.7537 , test_score: 0.7400 dla zbioru cech:\n",
      "['GlucoseBMI', 'DiabetesPedigreeFunction']\n",
      "Dla najlepszego współczynnika C = 4.510000 maksymalna skuteczność na zbiorze walidacyjnym wynosi 0.8013\n",
      "___________________________________________________________________________\n",
      "Dla tego etapu najlepszy wynik wynosi cv_score: 0.7582 , test_score: 0.7667 dla zbioru cech:\n",
      "['GlucoseBMI', 'DiabetesPedigreeFunction', 'BMI']\n",
      "Dla najlepszego współczynnika C = 7.510000 maksymalna skuteczność na zbiorze walidacyjnym wynosi 0.8079\n",
      "___________________________________________________________________________\n",
      "Dla tego etapu najlepszy wynik wynosi cv_score: 0.7537 , test_score: 0.7600 dla zbioru cech:\n",
      "['GlucoseBMI', 'DiabetesPedigreeFunction', 'BMI', 'GlucoseSquared']\n",
      "Dla najlepszego współczynnika C = 0.510000 maksymalna skuteczność na zbiorze walidacyjnym wynosi 0.8079\n",
      "___________________________________________________________________________\n",
      "Dla tego etapu najlepszy wynik wynosi cv_score: 0.7493 , test_score: 0.7600 dla zbioru cech:\n",
      "['GlucoseBMI', 'DiabetesPedigreeFunction', 'BMI', 'GlucoseSquared', 'BloodPressure']\n",
      "Dla najlepszego współczynnika C = 1.010000 maksymalna skuteczność na zbiorze walidacyjnym wynosi 0.8013\n",
      "___________________________________________________________________________\n",
      "Dla tego etapu najlepszy wynik wynosi cv_score: 0.7471 , test_score: 0.7600 dla zbioru cech:\n",
      "['GlucoseBMI', 'DiabetesPedigreeFunction', 'BMI', 'GlucoseSquared', 'BloodPressure', 'BloodPressureSquared']\n",
      "Dla najlepszego współczynnika C = 4.510000 maksymalna skuteczność na zbiorze walidacyjnym wynosi 0.8079\n",
      "___________________________________________________________________________\n",
      "Dla tego etapu najlepszy wynik wynosi cv_score: 0.7471 , test_score: 0.7533 dla zbioru cech:\n",
      "['GlucoseBMI', 'DiabetesPedigreeFunction', 'BMI', 'GlucoseSquared', 'BloodPressure', 'BloodPressureSquared', 'SkinThickness']\n",
      "Dla najlepszego współczynnika C = 2.010000 maksymalna skuteczność na zbiorze walidacyjnym wynosi 0.8079\n",
      "___________________________________________________________________________\n",
      "Dla tego etapu najlepszy wynik wynosi cv_score: 0.7427 , test_score: 0.7667 dla zbioru cech:\n",
      "['GlucoseBMI', 'DiabetesPedigreeFunction', 'BMI', 'GlucoseSquared', 'BloodPressure', 'BloodPressureSquared', 'SkinThickness', 'Age']\n",
      "Dla najlepszego współczynnika C = 4.010000 maksymalna skuteczność na zbiorze walidacyjnym wynosi 0.8212\n",
      "___________________________________________________________________________\n",
      "Dla tego etapu najlepszy wynik wynosi cv_score: 0.7361 , test_score: 0.7800 dla zbioru cech:\n",
      "['GlucoseBMI', 'DiabetesPedigreeFunction', 'BMI', 'GlucoseSquared', 'BloodPressure', 'BloodPressureSquared', 'SkinThickness', 'Age', 'Glucose']\n",
      "Dla najlepszego współczynnika C = 13.510000 maksymalna skuteczność na zbiorze walidacyjnym wynosi 0.8146\n",
      "___________________________________________________________________________\n",
      "Dla tego etapu najlepszy wynik wynosi cv_score: 0.7427 , test_score: 0.7867 dla zbioru cech:\n",
      "['GlucoseBMI', 'DiabetesPedigreeFunction', 'BMI', 'GlucoseSquared', 'BloodPressure', 'BloodPressureSquared', 'SkinThickness', 'Age', 'Glucose', 'SkinThicknessBMI']\n",
      "Dla najlepszego współczynnika C = 11.010000 maksymalna skuteczność na zbiorze walidacyjnym wynosi 0.8146\n",
      "___________________________________________________________________________\n",
      "Dla tego etapu najlepszy wynik wynosi cv_score: 0.7405 , test_score: 0.7800 dla zbioru cech:\n",
      "['GlucoseBMI', 'DiabetesPedigreeFunction', 'BMI', 'GlucoseSquared', 'BloodPressure', 'BloodPressureSquared', 'SkinThickness', 'Age', 'Glucose', 'SkinThicknessBMI', 'Pregnancies']\n",
      "Dla najlepszego współczynnika C = 8.510000 maksymalna skuteczność na zbiorze walidacyjnym wynosi 0.8013\n",
      "___________________________________________________________________________\n",
      "Dla tego etapu najlepszy wynik wynosi cv_score: 0.7272 , test_score: 0.7667 dla zbioru cech:\n",
      "['GlucoseBMI', 'DiabetesPedigreeFunction', 'BMI', 'GlucoseSquared', 'BloodPressure', 'BloodPressureSquared', 'SkinThickness', 'Age', 'Glucose', 'SkinThicknessBMI', 'Pregnancies', 'BMISquared']\n",
      "Dla najlepszego współczynnika C = 0.010000 maksymalna skuteczność na zbiorze walidacyjnym wynosi 0.8013\n",
      "___________________________________________________________________________\n",
      "Dla tego etapu najlepszy wynik wynosi cv_score: 0.7206 , test_score: 0.7533 dla zbioru cech:\n",
      "['GlucoseBMI', 'DiabetesPedigreeFunction', 'BMI', 'GlucoseSquared', 'BloodPressure', 'BloodPressureSquared', 'SkinThickness', 'Age', 'Glucose', 'SkinThicknessBMI', 'Pregnancies', 'BMISquared', 'Insulin']\n",
      "Dla najlepszego współczynnika C = 15.010000 maksymalna skuteczność na zbiorze walidacyjnym wynosi 0.8146\n",
      "___________________________________________________________________________\n",
      "Dla tego etapu najlepszy wynik wynosi cv_score: 0.7250 , test_score: 0.7667 dla zbioru cech:\n",
      "['GlucoseBMI', 'DiabetesPedigreeFunction', 'BMI', 'GlucoseSquared', 'BloodPressure', 'BloodPressureSquared', 'SkinThickness', 'Age', 'Glucose', 'SkinThicknessBMI', 'Pregnancies', 'BMISquared', 'Insulin', 'InsulinGlucose']\n",
      "Dla najlepszego współczynnika C = 0.010000 maksymalna skuteczność na zbiorze walidacyjnym wynosi 0.8079\n",
      "___________________________________________________________________________\n",
      "Dla tego etapu najlepszy wynik wynosi cv_score: 0.7206 , test_score: 0.7600 dla zbioru cech:\n",
      "['GlucoseBMI', 'DiabetesPedigreeFunction', 'BMI', 'GlucoseSquared', 'BloodPressure', 'BloodPressureSquared', 'SkinThickness', 'Age', 'Glucose', 'SkinThicknessBMI', 'Pregnancies', 'BMISquared', 'Insulin', 'InsulinGlucose', 'InsulinSquared']\n",
      "Dla najlepszego współczynnika C = 17.510000 maksymalna skuteczność na zbiorze walidacyjnym wynosi 0.8079\n",
      "___________________________________________________________________________\n",
      "Dla tego etapu najlepszy wynik wynosi cv_score: 0.7316 , test_score: 0.7667 dla zbioru cech:\n",
      "['GlucoseBMI', 'DiabetesPedigreeFunction', 'BMI', 'GlucoseSquared', 'BloodPressure', 'BloodPressureSquared', 'SkinThickness', 'Age', 'Glucose', 'SkinThicknessBMI', 'Pregnancies', 'BMISquared', 'Insulin', 'InsulinGlucose', 'InsulinSquared', 'InsulinLog']\n",
      "Dla najlepszego współczynnika C = 5.010000 maksymalna skuteczność na zbiorze walidacyjnym wynosi 0.8146\n",
      "___________________________________________________________________________\n"
     ]
    }
   ],
   "source": [
    "features = X.columns.values.tolist()\n",
    "result_features = []\n",
    "\n",
    "cv_scores = []\n",
    "test_scores = []\n",
    "feature_numbers = []\n",
    "\n",
    "model = LogisticRegression(random_state=0, solver='liblinear', penalty='l1', C=4.1)\n",
    "for n in range(0,len(features)):\n",
    "    tmp_max_score = 0\n",
    "    tmp_test_score = 0\n",
    "    best_features = []\n",
    "    for i,val in enumerate(features):\n",
    "        tmp_features = result_features.copy()\n",
    "        tmp_features.append(val)\n",
    "        score = cross_val_score(model, X_train[tmp_features], y_train)\n",
    "        score = np.abs(score).mean()\n",
    "        fitted_model = model.fit(X_train[tmp_features], y_train)\n",
    "        test_score = fitted_model.score(X_test[tmp_features], y_test)\n",
    "        if( score > tmp_max_score ):\n",
    "            tmp_max_score = score\n",
    "            best_features = tmp_features\n",
    "            tmp_test_score = test_score\n",
    "    result_features = best_features\n",
    "    print(\"Dla tego etapu najlepszy wynik wynosi cv_score: %.4f , test_score: %.4f dla zbioru cech:\\n%s\" % (tmp_max_score, tmp_test_score, str(best_features)))\n",
    "    cv_scores.append(tmp_max_score)\n",
    "    test_scores.append(tmp_test_score)\n",
    "    feature_numbers.append(len(best_features))\n",
    "    solver, penalty, C, max = testModelParameters('liblinear','l1', X_train[best_features], y_train, X_val[best_features], y_val, plot=False, print_result=False)\n",
    "    print(\"Dla najlepszego współczynnika C = %f maksymalna skuteczność na zbiorze walidacyjnym wynosi %.4f\" % (C,max))\n",
    "    print(\"___________________________________________________________________________\")\n",
    "    features.remove(best_features[len(best_features)-1])"
   ]
  },
  {
   "cell_type": "code",
   "execution_count": 118,
   "metadata": {},
   "outputs": [
    {
     "data": {
      "image/png": "[encoded data removed]",
      "text/plain": [
       "<Figure size 432x288 with 1 Axes>"
      ]
     },
     "metadata": {
      "needs_background": "light"
     },
     "output_type": "display_data"
    }
   ],
   "source": [
    "plt.figure()\n",
    "plt.plot(feature_numbers, cv_scores)\n",
    "plt.plot(feature_numbers, test_scores)\n",
    "plt.show()"
   ]
  },
  {
   "cell_type": "code",
   "execution_count": 125,
   "metadata": {},
   "outputs": [],
   "source": [
    "features = ['GlucoseBMI', 'DiabetesPedigreeFunction', 'BMI', 'GlucoseSquared', 'BloodPressure', 'BloodPressureSquared', 'SkinThickness', 'Age']"
   ]
  },
  {
   "attachments": {},
   "cell_type": "markdown",
   "metadata": {},
   "source": [
    "## Dobór parametrów"
   ]
  },
  {
   "cell_type": "code",
   "execution_count": 126,
   "metadata": {},
   "outputs": [
    {
     "data": {
      "image/png": "[encoded data removed]",
      "text/plain": [
       "<Figure size 432x288 with 1 Axes>"
      ]
     },
     "metadata": {
      "needs_background": "light"
     },
     "output_type": "display_data"
    },
    {
     "name": "stdout",
     "output_type": "stream",
     "text": [
      "Największa skutecznośc na zbiorze walidacyjnym: 0.8212 \n",
      "dla współczynnika C = 4.0100\n"
     ]
    }
   ],
   "source": [
    "solver, penalty, C, max = testModelParameters('liblinear','l1', X_train[features], y_train, X_val[features], y_val)"
   ]
  },
  {
   "cell_type": "code",
   "execution_count": 128,
   "metadata": {},
   "outputs": [
    {
     "data": {
      "image/png": "[encoded data removed]",
      "text/plain": [
       "<Figure size 432x288 with 1 Axes>"
      ]
     },
     "metadata": {
      "needs_background": "light"
     },
     "output_type": "display_data"
    },
    {
     "name": "stdout",
     "output_type": "stream",
     "text": [
      "Największa skutecznośc na zbiorze walidacyjnym: 0.8212 \n",
      "dla współczynnika C = 4.5100\n"
     ]
    }
   ],
   "source": [
    "solver, penalty, C, max = testModelParameters('liblinear','elasticnet', X_train[features], y_train, X_val[features], y_val)"
   ]
  },
  {
   "cell_type": "code",
   "execution_count": 135,
   "metadata": {},
   "outputs": [],
   "source": [
    "model = LogisticRegression(random_state=0, solver='liblinear', penalty='l1', C=4.01).fit(X_train[features], y_train)"
   ]
  },
  {
   "cell_type": "code",
   "execution_count": 156,
   "metadata": {},
   "outputs": [
    {
     "data": {
      "text/plain": [
       "array([[ 1.09275862e-03,  1.97604909e-01, -4.64243281e-02,\n",
       "        -8.50223874e-06, -4.12098380e-02,  2.12167545e-04,\n",
       "        -6.81070645e-03,  3.40763486e-02]])"
      ]
     },
     "execution_count": 156,
     "metadata": {},
     "output_type": "execute_result"
    }
   ],
   "source": [
    "model.coef_"
   ]
  },
  {
   "cell_type": "code",
   "execution_count": 158,
   "metadata": {},
   "outputs": [
    {
     "data": {
      "text/plain": [
       "[<matplotlib.lines.Line2D at 0x22dbe06b1f0>]"
      ]
     },
     "execution_count": 158,
     "metadata": {},
     "output_type": "execute_result"
    },
    {
     "data": {
      "image/png": "[encoded data removed]",
      "text/plain": [
       "<Figure size 432x288 with 1 Axes>"
      ]
     },
     "metadata": {
      "needs_background": "light"
     },
     "output_type": "display_data"
    }
   ],
   "source": [
    "sorted = X_test.sort_values(by=\"GlucoseBMI\")\n",
    "model_values = (model.predict_proba(sorted[features]))\n",
    "model_values[:,1]\n",
    "plt.plot(sorted['GlucoseBMI'], model_values[:,1])"
   ]
  },
  {
   "cell_type": "code",
   "execution_count": 10,
   "metadata": {},
   "outputs": [
    {
     "name": "stdout",
     "output_type": "stream",
     "text": [
      "0.23333333333333334\n",
      "[0.7826087  0.77777778 0.75555556 0.66666667 0.8        0.73333333\n",
      " 0.71111111 0.66666667 0.8        0.71111111]\n",
      "0.7404830917874395\n"
     ]
    },
    {
     "data": {
      "text/plain": [
       "array([[ 1.26556132e-01,  6.89722746e-02, -1.75786401e-02,\n",
       "         1.30454007e-03,  2.59587583e-02,  1.19264477e-01,\n",
       "         5.50514550e-01,  9.56889850e-03, -5.26263796e-05,\n",
       "        -2.14525423e-04,  1.12279554e-04, -1.32552348e-03,\n",
       "         4.80947966e-04, -3.05398931e+00]])"
      ]
     },
     "execution_count": 10,
     "metadata": {},
     "output_type": "execute_result"
    }
   ],
   "source": [
    "from sklearn import metrics\n",
    "model = LogisticRegression(solver='liblinear', penalty='l1', C=1.64).fit(X_train, y_train)\n",
    "score = cross_val_score(model, X_train, y_train, cv=10)\n",
    "prediction = model.predict(X_test)\n",
    "err = metrics.mean_squared_error(y_true=y_test, y_pred=prediction)\n",
    "print(err)\n",
    "avg_score = np.abs(score).mean()\n",
    "print(score)\n",
    "print(avg_score)\n",
    "model.coef_"
   ]
  },
  {
   "cell_type": "code",
   "execution_count": 33,
   "metadata": {},
   "outputs": [
    {
     "name": "stdout",
     "output_type": "stream",
     "text": [
      "[0.79120879 0.66666667 0.76666667 0.67777778 0.73333333]\n",
      "0.7271306471306472\n"
     ]
    },
    {
     "data": {
      "text/plain": [
       "array([[ 1.20879065e-01,  3.04775990e-02, -1.53268620e-02,\n",
       "        -2.51776486e-03, -9.51054680e-03,  0.00000000e+00,\n",
       "         3.03496080e-01,  1.41600935e-02, -8.69703874e-06,\n",
       "        -1.42046078e-04,  7.40911263e-05, -7.96336899e-04,\n",
       "         1.16124714e-03]])"
      ]
     },
     "execution_count": 33,
     "metadata": {},
     "output_type": "execute_result"
    }
   ],
   "source": [
    "model = LogisticRegression(random_state=None, solver='liblinear', penalty='l1', C=1.64).fit(X_train, y_train)\n",
    "score = cross_val_score(model, X_train, y_train)\n",
    "avg_score = np.abs(score).mean()\n",
    "print(score)\n",
    "print(avg_score)\n",
    "model.coef_"
   ]
  },
  {
   "cell_type": "code",
   "execution_count": 61,
   "metadata": {},
   "outputs": [
    {
     "name": "stdout",
     "output_type": "stream",
     "text": [
      "[[0.17883669 0.82116331]]\n",
      "[1]\n",
      "0.6922917900197856\n",
      "1\n"
     ]
    }
   ],
   "source": [
    "idx = 8\n",
    "model = LogisticRegression(random_state=0, solver='liblinear', penalty='l1',C=1.69).fit(X_train, y_train)\n",
    "prediction = model.predict_proba(X.iloc[idx,:].values.reshape(1,-1))\n",
    "print(prediction)\n",
    "prediction = model.predict(X.iloc[idx,:].values.reshape(1,-1))\n",
    "print(prediction)\n",
    "pinw = np.linalg.pinv(X_train)\n",
    "w = np.dot(pinw,y_train)\n",
    "prediction = (w*X.iloc[idx,:]).sum()\n",
    "print(prediction)\n",
    "print(y.iloc[idx])"
   ]
  },
  {
   "cell_type": "code",
   "execution_count": 83,
   "metadata": {},
   "outputs": [
    {
     "name": "stdout",
     "output_type": "stream",
     "text": [
      "Metoda macierzowa\n",
      "[[92 12]\n",
      " [17 30]]\n",
      "LogisticRegression\n",
      "[[92 12]\n",
      " [15 32]]\n"
     ]
    }
   ],
   "source": [
    "print(\"Metoda macierzowa\")\n",
    "y_pred = ((w*X_val).sum(axis=1) > 0.5) * 1\n",
    "print(metrics.confusion_matrix(y_val, y_pred))\n",
    "\n",
    "print(\"LogisticRegression\")\n",
    "model = LogisticRegression(random_state=0, solver='liblinear', penalty='l1',C=4.51).fit(X_train, y_train)\n",
    "y_pred = model.predict(X_val)\n",
    "print(metrics.confusion_matrix(y_val, y_pred))"
   ]
  },
  {
   "cell_type": "code",
   "execution_count": 74,
   "metadata": {},
   "outputs": [
    {
     "data": {
      "text/plain": [
       "0.7733333333333333"
      ]
     },
     "execution_count": 74,
     "metadata": {},
     "output_type": "execute_result"
    }
   ],
   "source": [
    "y_pred = ((w*X_test).sum(axis=1) > 0.5) * 1\n",
    "correct = (y_pred == y_test).sum()\n",
    "correct/len(y_pred)"
   ]
  },
  {
   "cell_type": "code",
   "execution_count": 86,
   "metadata": {},
   "outputs": [
    {
     "name": "stdout",
     "output_type": "stream",
     "text": [
      "[[ 1.25840154e-01  6.08128459e-02 -1.71398830e-02  1.12659022e-03\n",
      "   2.38570027e-02  1.04679083e-01  5.34846100e-01  1.00882071e-02\n",
      "  -4.93796265e-05 -1.96511440e-04  1.06463493e-04 -1.31885213e-03\n",
      "   5.94369528e-04 -2.83807672e+00]]\n"
     ]
    },
    {
     "data": {
      "text/plain": [
       "0.7508183306055647"
      ]
     },
     "execution_count": 86,
     "metadata": {},
     "output_type": "execute_result"
    }
   ],
   "source": [
    "model = LogisticRegression(random_state=0, solver='liblinear', penalty='l1',C=1.69).fit(X_train, y_train)\n",
    "model.score(X_test, y_test)\n",
    "print(model.coef_)\n",
    "y_pred = model.predict(X_val)\n",
    "metrics.roc_auc_score(y_val,y_pred )"
   ]
  },
  {
   "cell_type": "code",
   "execution_count": 35,
   "metadata": {},
   "outputs": [
    {
     "name": "stdout",
     "output_type": "stream",
     "text": [
      "[0.7615894  0.74834437 0.76       0.78666667 0.77333333]\n",
      "[[ 1.22858438e-01  7.52431789e-02 -1.43070719e-02 -2.80329383e-03\n",
      "  -1.24195789e-02  8.60426555e-02  3.46797701e-01  1.05454765e-02\n",
      "  -9.07960153e-06 -1.71996077e-04  9.62394085e-05]]\n"
     ]
    }
   ],
   "source": [
    "\n",
    "model = LogisticRegression(random_state=None, solver='liblinear', penalty='l1', C=1.49).fit(X_train, y_train)\n",
    "scores = cross_val_score(model, X, y, cv=5 )\n",
    "print(scores)\n",
    "print(model.coef_)"
   ]
  },
  {
   "cell_type": "code",
   "execution_count": 36,
   "metadata": {},
   "outputs": [
    {
     "data": {
      "text/plain": [
       "array([0.7615894 , 0.74834437, 0.76      , 0.78666667, 0.77333333])"
      ]
     },
     "execution_count": 36,
     "metadata": {},
     "output_type": "execute_result"
    }
   ],
   "source": [
    "\n",
    "scores = cross_val_score(model, X, y, cv=5)\n",
    "scores"
   ]
  },
  {
   "attachments": {},
   "cell_type": "markdown",
   "metadata": {},
   "source": [
    "# Testowanie modelu #\n",
    "#TODO"
   ]
  },
  {
   "attachments": {},
   "cell_type": "markdown",
   "metadata": {},
   "source": [
    "# Wypełnienie braków przy użyciu regresji\n",
    "#TODO"
   ]
  }
 ],
 "metadata": {
  "kernelspec": {
   "display_name": "Python 3",
   "language": "python",
   "name": "python3"
  },
  "language_info": {
   "codemirror_mode": {
    "name": "ipython",
    "version": 3
   },
   "file_extension": ".py",
   "mimetype": "text/x-python",
   "name": "python",
   "nbconvert_exporter": "python",
   "pygments_lexer": "ipython3",
   "version": "3.10.5 (tags/v3.10.5:f377153, Jun  6 2022, 16:14:13) [MSC v.1929 64 bit (AMD64)]"
  },
  "orig_nbformat": 4,
  "vscode": {
   "interpreter": {
    "hash": "87516fdcb08f36a8cf8ba7189b4412414eaea80f5448517d57bf2e649f1a5344"
   }
  }
 },
 "nbformat": 4,
 "nbformat_minor": 2
}
