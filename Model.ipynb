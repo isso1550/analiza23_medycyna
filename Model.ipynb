{
 "cells": [
  {
   "attachments": {},
   "cell_type": "markdown",
   "metadata": {},
   "source": [
    "# Inicjalizacja środowiska"
   ]
  },
  {
   "cell_type": "code",
   "execution_count": 1,
   "metadata": {},
   "outputs": [],
   "source": [
    "import pandas as pd\n",
    "import numpy as np\n",
    "import matplotlib.pyplot as plt\n",
    "import seaborn as sns\n",
    "from sklearn.preprocessing import StandardScaler, MinMaxScaler\n",
    "from sklearn.linear_model import LogisticRegression\n",
    "from sklearn.model_selection import train_test_split, cross_val_score\n",
    "from sklearn import metrics\n",
    "from math import log\n",
    "\n",
    "import warnings\n",
    "warnings.filterwarnings('ignore')"
   ]
  },
  {
   "attachments": {},
   "cell_type": "markdown",
   "metadata": {},
   "source": [
    "## Funkcje pomocnicze"
   ]
  },
  {
   "cell_type": "code",
   "execution_count": 2,
   "metadata": {},
   "outputs": [],
   "source": [
    "#Sprawdza skuteczność modelu na zbiorze walidacyjnym w zależności od wartości współczynnika regularyzacji\n",
    "def searchBestCValue(solver, penalty, X_train, y_train, X_val, y_val, min, max, step):\n",
    "    scores = []\n",
    "    values = []\n",
    "    for C in np.arange(min, max, step):\n",
    "        model = LogisticRegression(random_state=None, solver=solver, penalty=penalty, C=C).fit(X_train, y_train)\n",
    "        y_pred = model.predict(X_val)\n",
    "        score = metrics.accuracy_score(y_val, y_pred)\n",
    "        scores.append(score)\n",
    "        values.append(C)\n",
    "    #Zwraca wektory skuteczności oraz wartości C\n",
    "    return scores, values\n",
    "\n",
    "#Sprawdza maksymalną skuteczność modelu na zbiorze walidacyjnym spośród wszystkich zbadanych wartości współczynnika regularyzacji\n",
    "def testModelParameters(solver, penalty, X_train, y_train, X_val, y_val, plot=True, print_result=True):\n",
    "    val_scores, values = searchBestCValue(solver, penalty, X_train, y_train, X_val, y_val, 0.01, 40, 1)\n",
    "    if (plot):\n",
    "        plt.figure()\n",
    "        plt.plot(values, val_scores)\n",
    "        plt.show()\n",
    "    max = np.max(val_scores)\n",
    "    idx = val_scores.index(max)\n",
    "    C = values[idx]\n",
    "    if(print_result):\n",
    "        print(\"Największa wartość Accuracy na zbiorze walidacyjnym: %.4f \\ndla współczynnika C = %.4f\" %(max, C))\n",
    "    return solver, penalty, C, max\n"
   ]
  },
  {
   "attachments": {},
   "cell_type": "markdown",
   "metadata": {},
   "source": [
    "# Dane wypełnione medianami\n",
    "Do tworzenia modelu wykorzystuję dane wypełnione medianami podczas analizy zbioru."
   ]
  },
  {
   "attachments": {},
   "cell_type": "markdown",
   "metadata": {},
   "source": [
    "## Wczytanie danych"
   ]
  },
  {
   "cell_type": "code",
   "execution_count": 3,
   "metadata": {},
   "outputs": [],
   "source": [
    "data = pd.read_csv(\"data/imputated_data.csv\")\n",
    "data = data.drop(['Imputated'], axis=1)\n",
    "data = data.drop(['Unnamed: 0'], axis=1)"
   ]
  },
  {
   "attachments": {},
   "cell_type": "markdown",
   "metadata": {},
   "source": [
    "# Wstępne przetwarzanie danych"
   ]
  },
  {
   "attachments": {},
   "cell_type": "markdown",
   "metadata": {},
   "source": [
    "## Podział na cechy opisujące oraz cechę opisywaną."
   ]
  },
  {
   "cell_type": "code",
   "execution_count": 405,
   "metadata": {},
   "outputs": [],
   "source": [
    "y = data['Outcome']\n",
    "X = data.drop([\"Outcome\"], axis=1)"
   ]
  },
  {
   "attachments": {},
   "cell_type": "markdown",
   "metadata": {},
   "source": [
    "## Dodanie dodatkowych cech"
   ]
  },
  {
   "attachments": {},
   "cell_type": "markdown",
   "metadata": {},
   "source": [
    "Funkcje interakcji najlepiej sprawdzają się w przypadku cech, które na wykresie cecha1(cecha2) układają się mniej więcej wzdłuż funkcji x=y oraz wraz z x rośnie prawdopodobieństwo wystąpienia pozytywnej decyzji. Z pomocą wykresów korelacji znalazłem jeden taki przypadek: Glucose oraz BMI."
   ]
  },
  {
   "attachments": {},
   "cell_type": "markdown",
   "metadata": {},
   "source": [
    "Nałożenie logarytmu na cechę jest dobrym pomysłem w przypadku cech ze skośnym rozkładem, ponieważ pomaga rozdzielić wartości które oryginalnie stanowią tylko małą część zakresu."
   ]
  },
  {
   "cell_type": "code",
   "execution_count": 406,
   "metadata": {},
   "outputs": [],
   "source": [
    "X['GlucoseSquared'] = X['Glucose'].apply(lambda x: x**2)\n",
    "X['GlucoseBMI'] = X['Glucose'] * X['BMI']\n",
    "\n",
    "X['PregnanciesLog'] = X['Pregnancies'].apply(lambda x:log(x) if(x>0) else 0)\n",
    "X['DPFLog'] = X['DiabetesPedigreeFunction'].apply(lambda x:log(x) if(x>0) else 0)\n",
    "X['InsulinLog'] = X['Insulin'].apply(lambda x:log(x) if(x>0) else 0)\n",
    "X['AgeLog'] = X['Age'].apply(lambda x:log(x) if(x>0) else 0)"
   ]
  },
  {
   "cell_type": "code",
   "execution_count": 407,
   "metadata": {},
   "outputs": [],
   "source": [
    "X = X.drop(['Pregnancies','Insulin','DiabetesPedigreeFunction','Age'],axis=1)"
   ]
  },
  {
   "cell_type": "code",
   "execution_count": 282,
   "metadata": {},
   "outputs": [
    {
     "data": {
      "text/plain": [
       "<AxesSubplot: xlabel='InsulinLog', ylabel='Density'>"
      ]
     },
     "execution_count": 282,
     "metadata": {},
     "output_type": "execute_result"
    },
    {
     "data": {
      "image/png": "[encoded data removed]",
      "text/plain": [
       "<Figure size 720x720 with 1 Axes>"
      ]
     },
     "metadata": {
      "needs_background": "light"
     },
     "output_type": "display_data"
    }
   ],
   "source": [
    "plt.figure(figsize=(10,10))\n",
    "sns.distplot(X.InsulinLog)"
   ]
  },
  {
   "attachments": {},
   "cell_type": "markdown",
   "metadata": {},
   "source": [
    "## Normalizacja\n",
    "Normalizację stosuję, ponieważ cechy posiadają różniące się od siebie zakresy. Wartości skrajne z cech posiadających rozkłady prawoskośne zostały wyeliminowane przez zastosowanie logarytmów."
   ]
  },
  {
   "cell_type": "code",
   "execution_count": 408,
   "metadata": {},
   "outputs": [],
   "source": [
    "nscaler = MinMaxScaler() \n",
    "cols_to_norm = X.columns.values\n",
    "for col in cols_to_norm:\n",
    "    cols= [col]\n",
    "    nscaler.fit(X[cols])\n",
    "    X[cols] = nscaler.transform(X[cols])"
   ]
  },
  {
   "attachments": {},
   "cell_type": "markdown",
   "metadata": {},
   "source": [
    "## Podział danych\n",
    "* Podział na zbiory X (cechy opisujące) oraz Y (cecha opisywana). Dla tego zbioru Y to \"Outcome\", czyli diagnoza.\n",
    "* Podział na zbiory Train/Test/Val - procentowy podział w komentarzu funkcji splitDataset()"
   ]
  },
  {
   "cell_type": "code",
   "execution_count": 10,
   "metadata": {},
   "outputs": [],
   "source": [
    "def splitDataset(X, y, random_state=0, print_result=False):\n",
    "    #Podział Train 60%, Test 20%, Val 20%\n",
    "    X_train, X_test, y_train, y_test = train_test_split(X, y, test_size=0.4, random_state=random_state)\n",
    "    #0.5 * 0.4 = 0.2\n",
    "    X_test, X_val, y_test, y_val = train_test_split(X_test, y_test, test_size=0.5, random_state=random_state)\n",
    "    if (print_result):\n",
    "        print(\"Zbiór podzielony: TRAIN: %i, VAL: %i, TEST: %i\" % (X_train.shape[0],X_val.shape[0],X_test.shape[0]))\n",
    "    return X_train, y_train, X_test, y_test, X_val, y_val"
   ]
  },
  {
   "cell_type": "code",
   "execution_count": 409,
   "metadata": {},
   "outputs": [
    {
     "name": "stdout",
     "output_type": "stream",
     "text": [
      "Zbiór podzielony: TRAIN: 451, VAL: 151, TEST: 150\n"
     ]
    }
   ],
   "source": [
    "X_train, y_train, X_test, y_test, X_val, y_val = splitDataset(X, y, random_state=0, print_result=True)"
   ]
  },
  {
   "attachments": {},
   "cell_type": "markdown",
   "metadata": {},
   "source": [
    "### Wybór ilości cech"
   ]
  },
  {
   "attachments": {},
   "cell_type": "markdown",
   "metadata": {},
   "source": [
    "Do doboru cech wykorzystuje metodę zachłanną. Model ma jednak włączoną regularyzację Lasso, dzięki czemu przy okazji będzie pozbywał się lub redukował wpływ tych mniej znaczących cech zmniejszając ich szansę na zostanie wybraną w danym etapie. Dla każdego etapu dodatkowo liczone jest współczynnik regularyzacji oferujący najlepszy wynik miary Accuracy. Zaimplementowałem to, ponieważ dla różnych ilości cech modele działają najlepiej dla różnych wartości C. Ponieważ stosuję regularyzację L1 to może wystąpić zjawisko redukcji lub wyzerowania cech w dalszych etapach. Wezmę to pod uwagę przy ostatecznym wyborze metody i siły regularyzacji."
   ]
  },
  {
   "cell_type": "code",
   "execution_count": 23,
   "metadata": {},
   "outputs": [],
   "source": [
    "def greedyFeaturesSearch(X_train, y_train, X_val, y_val):\n",
    "    features = X_train.columns.values.tolist()\n",
    "    result_features = []\n",
    "\n",
    "    acc_scores = []\n",
    "    best_c_acc_scores = []\n",
    "    feature_numbers = []\n",
    "\n",
    "    model = LogisticRegression(random_state=0, solver='liblinear', penalty='l1', C=4.1)\n",
    "    for n in range(0,len(features)):\n",
    "        tmp_max_score = 0\n",
    "        tmp_test_score = 0\n",
    "        best_features = []\n",
    "        for i,val in enumerate(features):\n",
    "            tmp_features = result_features.copy()\n",
    "            tmp_features.append(val)\n",
    "            solver, penalty, C, max = testModelParameters('liblinear','l1', X_train[tmp_features], y_train, X_val[tmp_features], y_val, plot=False, print_result=False)\n",
    "            score = max\n",
    "            if( score > tmp_max_score ):\n",
    "                tmp_max_score = score\n",
    "                best_features = tmp_features\n",
    "        result_features = best_features\n",
    "        print(\"Dla %i cech najlepsza średnia wartość walidacji krzyżowej wynosi %.4f dla zbioru cech:\\n%s\" % (len(best_features), tmp_max_score, str(best_features)))\n",
    "        acc_scores.append(tmp_max_score)\n",
    "        feature_numbers.append(len(best_features))\n",
    "        solver, penalty, C, max = testModelParameters('liblinear','l1', X_train[best_features], y_train, X_val[best_features], y_val, plot=False, print_result=False)\n",
    "        best_c_acc_scores.append(max)\n",
    "        print(\"Dla najlepszego współczynnika C = %f średnia skuteczność na zbiorze walidacyjnym wynosi %.4f\" % (C,max))\n",
    "        print(\"___________________________________________________________________________\")\n",
    "        features.remove(best_features[len(best_features)-1])\n",
    "    return feature_numbers, acc_scores"
   ]
  },
  {
   "cell_type": "code",
   "execution_count": 410,
   "metadata": {},
   "outputs": [
    {
     "name": "stdout",
     "output_type": "stream",
     "text": [
      "Dla 1 cech najlepsza średnia wartość walidacji krzyżowej wynosi 0.7881 dla zbioru cech:\n",
      "['GlucoseBMI']\n",
      "Dla najlepszego współczynnika C = 1.010000 średnia skuteczność na zbiorze walidacyjnym wynosi 0.7881\n",
      "___________________________________________________________________________\n",
      "Dla 2 cech najlepsza średnia wartość walidacji krzyżowej wynosi 0.8411 dla zbioru cech:\n",
      "['GlucoseBMI', 'AgeLog']\n",
      "Dla najlepszego współczynnika C = 1.010000 średnia skuteczność na zbiorze walidacyjnym wynosi 0.8411\n",
      "___________________________________________________________________________\n",
      "Dla 3 cech najlepsza średnia wartość walidacji krzyżowej wynosi 0.8477 dla zbioru cech:\n",
      "['GlucoseBMI', 'AgeLog', 'InsulinLog']\n",
      "Dla najlepszego współczynnika C = 1.010000 średnia skuteczność na zbiorze walidacyjnym wynosi 0.8477\n",
      "___________________________________________________________________________\n",
      "Dla 4 cech najlepsza średnia wartość walidacji krzyżowej wynosi 0.8477 dla zbioru cech:\n",
      "['GlucoseBMI', 'AgeLog', 'InsulinLog', 'BloodPressure']\n",
      "Dla najlepszego współczynnika C = 1.010000 średnia skuteczność na zbiorze walidacyjnym wynosi 0.8477\n",
      "___________________________________________________________________________\n",
      "Dla 5 cech najlepsza średnia wartość walidacji krzyżowej wynosi 0.8477 dla zbioru cech:\n",
      "['GlucoseBMI', 'AgeLog', 'InsulinLog', 'BloodPressure', 'SkinThickness']\n",
      "Dla najlepszego współczynnika C = 1.010000 średnia skuteczność na zbiorze walidacyjnym wynosi 0.8477\n",
      "___________________________________________________________________________\n",
      "Dla 6 cech najlepsza średnia wartość walidacji krzyżowej wynosi 0.8477 dla zbioru cech:\n",
      "['GlucoseBMI', 'AgeLog', 'InsulinLog', 'BloodPressure', 'SkinThickness', 'BMI']\n",
      "Dla najlepszego współczynnika C = 1.010000 średnia skuteczność na zbiorze walidacyjnym wynosi 0.8477\n",
      "___________________________________________________________________________\n",
      "Dla 7 cech najlepsza średnia wartość walidacji krzyżowej wynosi 0.8411 dla zbioru cech:\n",
      "['GlucoseBMI', 'AgeLog', 'InsulinLog', 'BloodPressure', 'SkinThickness', 'BMI', 'PregnanciesLog']\n",
      "Dla najlepszego współczynnika C = 1.010000 średnia skuteczność na zbiorze walidacyjnym wynosi 0.8411\n",
      "___________________________________________________________________________\n",
      "Dla 8 cech najlepsza średnia wartość walidacji krzyżowej wynosi 0.8344 dla zbioru cech:\n",
      "['GlucoseBMI', 'AgeLog', 'InsulinLog', 'BloodPressure', 'SkinThickness', 'BMI', 'PregnanciesLog', 'GlucoseSquared']\n",
      "Dla najlepszego współczynnika C = 26.010000 średnia skuteczność na zbiorze walidacyjnym wynosi 0.8344\n",
      "___________________________________________________________________________\n",
      "Dla 9 cech najlepsza średnia wartość walidacji krzyżowej wynosi 0.8278 dla zbioru cech:\n",
      "['GlucoseBMI', 'AgeLog', 'InsulinLog', 'BloodPressure', 'SkinThickness', 'BMI', 'PregnanciesLog', 'GlucoseSquared', 'Glucose']\n",
      "Dla najlepszego współczynnika C = 3.010000 średnia skuteczność na zbiorze walidacyjnym wynosi 0.8278\n",
      "___________________________________________________________________________\n",
      "Dla 10 cech najlepsza średnia wartość walidacji krzyżowej wynosi 0.8212 dla zbioru cech:\n",
      "['GlucoseBMI', 'AgeLog', 'InsulinLog', 'BloodPressure', 'SkinThickness', 'BMI', 'PregnanciesLog', 'GlucoseSquared', 'Glucose', 'DPFLog']\n",
      "Dla najlepszego współczynnika C = 1.010000 średnia skuteczność na zbiorze walidacyjnym wynosi 0.8212\n",
      "___________________________________________________________________________\n"
     ]
    },
    {
     "data": {
      "image/png": "[encoded data removed]",
      "text/plain": [
       "<Figure size 432x288 with 1 Axes>"
      ]
     },
     "metadata": {
      "needs_background": "dark"
     },
     "output_type": "display_data"
    }
   ],
   "source": [
    "feature_numbers, cv_scores = greedyFeaturesSearch(X_train, y_train, X_val, y_val)\n",
    "plt.figure()\n",
    "plt.plot(feature_numbers, cv_scores)\n",
    "titleobj = plt.title(\"Skuteczność na zbiorze walidacyjnym od ilości cech\")\n",
    "ax = plt.gca()\n",
    "for i, tick_label in enumerate(ax.axes.get_yticklabels()):\n",
    "    tick_label.set_color('white')\n",
    "for i, tick_label in enumerate(ax.axes.get_xticklabels()):\n",
    "    tick_label.set_color('white')\n",
    "plt.setp(titleobj, color = 'w')\n",
    "plt.show()"
   ]
  },
  {
   "cell_type": "code",
   "execution_count": 411,
   "metadata": {},
   "outputs": [],
   "source": [
    "features = ['GlucoseBMI', 'AgeLog', 'InsulinLog', 'BloodPressure', 'SkinThickness', 'BMI']"
   ]
  },
  {
   "attachments": {},
   "cell_type": "markdown",
   "metadata": {},
   "source": [
    "Dla małej ilości cech (1-2) skuteczność jest niska, ponieważ model jest niedouczony, posiada duże obciążenie. Następnie dla ilości cech (3-6) skuteczność jest teoretycznie optymalna. Dla wyższej ilości cech skuteczność znowu spada, ponieważ wariancja modelu się zwiększa.\n",
    "\n",
    "Ponieważ wybór został dokonany metodą zachłanną to wybieram największy zbiór cech spośród tych o najlepszej skuteczności, aby uniknąć zbyt dużego dopasowania wyboru cech do zbioru uczącego."
   ]
  },
  {
   "attachments": {},
   "cell_type": "markdown",
   "metadata": {},
   "source": [
    "Warto zauważyć, że aż 3 z 6 wybranych cech to cechy dodane lub transformowane wcześniej. 2 cechy, czyli SkinThickness oraz InsulinLog są cechami które miały duże braki."
   ]
  },
  {
   "attachments": {},
   "cell_type": "markdown",
   "metadata": {},
   "source": [
    "# Dobór parametrów"
   ]
  },
  {
   "attachments": {},
   "cell_type": "markdown",
   "metadata": {},
   "source": [
    "## Metoda regularyzacji\n",
    "Celem etapu jest zdecydowanie, którą metodę regularyzacji zastosować przy ostatecznym uczeniu modelu.\n",
    "\n",
    "Do decyzji wykorzystam znajomość cech charakterystycznych obu metod oraz funkcję pomocniczą badającą maksymalną skuteczność modelu na zbiorze walidacyjnym w zależności od współczynnika regularyzacji."
   ]
  },
  {
   "cell_type": "code",
   "execution_count": 412,
   "metadata": {},
   "outputs": [
    {
     "data": {
      "image/png": "[encoded data removed]",
      "text/plain": [
       "<Figure size 432x288 with 1 Axes>"
      ]
     },
     "metadata": {
      "needs_background": "light"
     },
     "output_type": "display_data"
    },
    {
     "name": "stdout",
     "output_type": "stream",
     "text": [
      "Największa wartość Accuracy na zbiorze walidacyjnym: 0.8477 \n",
      "dla współczynnika C = 1.0100\n"
     ]
    }
   ],
   "source": [
    "solver, penalty, C, max = testModelParameters('liblinear','l1', X_train[features], y_train, X_val[features], y_val)"
   ]
  },
  {
   "cell_type": "code",
   "execution_count": 413,
   "metadata": {},
   "outputs": [
    {
     "data": {
      "text/plain": [
       "array([[ 7.59579255,  1.75344046, -0.44956982, -0.38868239,  0.        ,\n",
       "         0.        ]])"
      ]
     },
     "execution_count": 413,
     "metadata": {},
     "output_type": "execute_result"
    }
   ],
   "source": [
    "model = LogisticRegression(random_state=0, solver='liblinear', penalty='l1', C=1).fit(X_train[features], y_train)\n",
    "model.coef_"
   ]
  },
  {
   "cell_type": "code",
   "execution_count": 414,
   "metadata": {},
   "outputs": [
    {
     "data": {
      "image/png": "[encoded data removed]",
      "text/plain": [
       "<Figure size 432x288 with 1 Axes>"
      ]
     },
     "metadata": {
      "needs_background": "light"
     },
     "output_type": "display_data"
    },
    {
     "name": "stdout",
     "output_type": "stream",
     "text": [
      "Największa wartość Accuracy na zbiorze walidacyjnym: 0.8278 \n",
      "dla współczynnika C = 5.0100\n"
     ]
    }
   ],
   "source": [
    "solver, penalty, C, max = testModelParameters('liblinear','l2', X_train[features], y_train, X_val[features], y_val)"
   ]
  },
  {
   "attachments": {},
   "cell_type": "markdown",
   "metadata": {},
   "source": [
    "Ostatecznie okazało się, że regularyzacja L1 dla 6 zachłannie wybranych cech 2 z nich zerowała, co skutkowało przeuczeniem modelu. Zdecydowałem się więc na regularyzację L2 i ręczne zwiększenie współczynnika regularyzacji do momentu, gdy wyniki walidacji krzyżowej nie będą wskazywać na silne przeuczenie."
   ]
  },
  {
   "cell_type": "code",
   "execution_count": 415,
   "metadata": {},
   "outputs": [
    {
     "data": {
      "text/plain": [
       "array([[ 5.99226953,  1.8429058 , -0.36113071, -0.76667523, -0.0114242 ,\n",
       "         0.30950646]])"
      ]
     },
     "execution_count": 415,
     "metadata": {},
     "output_type": "execute_result"
    }
   ],
   "source": [
    "model = LogisticRegression(random_state=0, solver='liblinear', penalty='l2', C=2).fit(X_train[features], y_train)\n",
    "model.coef_"
   ]
  },
  {
   "cell_type": "code",
   "execution_count": 416,
   "metadata": {},
   "outputs": [
    {
     "data": {
      "text/plain": [
       "array([0.78021978, 0.71111111, 0.77777778, 0.7       , 0.72222222])"
      ]
     },
     "execution_count": 416,
     "metadata": {},
     "output_type": "execute_result"
    }
   ],
   "source": [
    "cross_val_score(model, X_train, y_train, cv=5)"
   ]
  },
  {
   "attachments": {},
   "cell_type": "markdown",
   "metadata": {},
   "source": [
    "# Wynik"
   ]
  },
  {
   "cell_type": "code",
   "execution_count": 417,
   "metadata": {},
   "outputs": [],
   "source": [
    "model = LogisticRegression(random_state=0, solver='liblinear', penalty='l2', C=2).fit(X_train[features], y_train)"
   ]
  },
  {
   "cell_type": "code",
   "execution_count": 439,
   "metadata": {},
   "outputs": [
    {
     "data": {
      "text/plain": [
       "[array([[ 5.99226953,  1.8429058 , -0.36113071, -0.76667523, -0.0114242 ,\n",
       "          0.30950646]]),\n",
       " ['GlucoseBMI',\n",
       "  'AgeLog',\n",
       "  'InsulinLog',\n",
       "  'BloodPressure',\n",
       "  'SkinThickness',\n",
       "  'BMI']]"
      ]
     },
     "execution_count": 439,
     "metadata": {},
     "output_type": "execute_result"
    }
   ],
   "source": [
    "[model.coef_, features]"
   ]
  },
  {
   "attachments": {},
   "cell_type": "markdown",
   "metadata": {},
   "source": [
    "Zdecydowanie najbardziej znaczącą cechą jest nowo dodana funkcja interakcji GlucoseBMI, co było do przewidzenia na podstawie korelacji cech w zbiorze. Zaskakująca jednak jest obecność cechy AgeLog, ponieważ nic nie wskazywało na to że znajdzie się wśród tych najbardziej wpływających na chorobę."
   ]
  },
  {
   "attachments": {},
   "cell_type": "markdown",
   "metadata": {},
   "source": [
    "# Analiza utworzonego modelu"
   ]
  },
  {
   "attachments": {},
   "cell_type": "markdown",
   "metadata": {},
   "source": [
    "## Wykres\n",
    "Model uczony jest wieloma cechami, jednak po współczynnikach widać, że jeden z nich jest kluczowy dlatego można wykreślić bardzo poglądowy wykres regresji."
   ]
  },
  {
   "cell_type": "code",
   "execution_count": 440,
   "metadata": {},
   "outputs": [
    {
     "data": {
      "text/plain": [
       "[<matplotlib.lines.Line2D at 0x28ef686f1f0>]"
      ]
     },
     "execution_count": 440,
     "metadata": {},
     "output_type": "execute_result"
    },
    {
     "data": {
      "image/png": "[encoded data removed]",
      "text/plain": [
       "<Figure size 432x288 with 1 Axes>"
      ]
     },
     "metadata": {
      "needs_background": "light"
     },
     "output_type": "display_data"
    }
   ],
   "source": [
    "sorted = X_train.sort_values(by=\"GlucoseBMI\")\n",
    "model_values = (model.predict_proba(sorted[features]))\n",
    "model_values[:,1]\n",
    "\n",
    "plt.plot(sorted['GlucoseBMI'], model_values[:,1])"
   ]
  },
  {
   "attachments": {},
   "cell_type": "markdown",
   "metadata": {},
   "source": [
    "Wykres narysowany tą metodą przypomina kształtem funkcję sigmoidalną. Zakłócenia są powodowane tym, że ostateczny wynik zależy również od wielu innych cech."
   ]
  },
  {
   "attachments": {},
   "cell_type": "markdown",
   "metadata": {},
   "source": [
    "## Miary \n",
    "Zbadanie skuteczności na zbiorze testowym przy użyciu miar."
   ]
  },
  {
   "cell_type": "code",
   "execution_count": 441,
   "metadata": {},
   "outputs": [],
   "source": [
    "y_pred = model.predict(X_test[features])"
   ]
  },
  {
   "cell_type": "code",
   "execution_count": 442,
   "metadata": {},
   "outputs": [],
   "source": [
    "accuracy = metrics.accuracy_score(y_test, y_pred)\n",
    "precision = metrics.precision_score(y_test, y_pred)\n",
    "recall = metrics.recall_score(y_test, y_pred)\n",
    "f1score = metrics.f1_score(y_test, y_pred)"
   ]
  },
  {
   "cell_type": "code",
   "execution_count": 443,
   "metadata": {},
   "outputs": [
    {
     "name": "stdout",
     "output_type": "stream",
     "text": [
      "Accuracy: 0.773333\n",
      "Precision: 0.723404\n",
      "Recall: 0.618182\n",
      "F1Score: 0.666667\n"
     ]
    }
   ],
   "source": [
    "print(\"Accuracy: %f\\nPrecision: %f\\nRecall: %f\\nF1Score: %f\" % (accuracy, precision, recall, f1score))"
   ]
  },
  {
   "attachments": {},
   "cell_type": "markdown",
   "metadata": {},
   "source": [
    "Na zbiorze testowym wyniki nie są już takie dobre jak na walidacyjnym, ale wciąż skuteczność jest większa niż 75%."
   ]
  },
  {
   "cell_type": "code",
   "execution_count": 446,
   "metadata": {},
   "outputs": [
    {
     "data": {
      "text/plain": [
       "array([0, 1], dtype=int64)"
      ]
     },
     "execution_count": 446,
     "metadata": {},
     "output_type": "execute_result"
    }
   ],
   "source": [
    "model.classes_"
   ]
  },
  {
   "cell_type": "code",
   "execution_count": 445,
   "metadata": {},
   "outputs": [
    {
     "name": "stdout",
     "output_type": "stream",
     "text": [
      "[[82 13]\n",
      " [21 34]]\n",
      "82 13 21 34\n"
     ]
    }
   ],
   "source": [
    "tn, fp, fn, tp = metrics.confusion_matrix(y_test, y_pred).ravel()\n",
    "print(metrics.confusion_matrix(y_test, y_pred))\n",
    "print(tn,fp,fn,tp)"
   ]
  },
  {
   "attachments": {},
   "cell_type": "markdown",
   "metadata": {},
   "source": [
    "## Wykorzystanie\n",
    "Celem jest prosta odpowiedź na pytanie: co by się stało gdyby ten model został użyty w realnej sytuacji?"
   ]
  },
  {
   "attachments": {},
   "cell_type": "markdown",
   "metadata": {},
   "source": [
    "Sama skuteczność ~75% nie jest najgorsza, ale ponieważ decyzją jest diagnoza choroby to najważniejsza jest ilość False Negative, czyli sytuacji kiedy chory zostanie odesłany do domu. Wykorzystując fakt, że regresja logistyczna zwraca prawdopodobieństwa przynależności obiektu do danej klasy można ręcznie zdefiniować progi tak, aby za wszelką cenę uniknąć takiego zjawiska."
   ]
  },
  {
   "cell_type": "code",
   "execution_count": 387,
   "metadata": {},
   "outputs": [
    {
     "data": {
      "text/plain": [
       "array([0, 1], dtype=int64)"
      ]
     },
     "execution_count": 387,
     "metadata": {},
     "output_type": "execute_result"
    }
   ],
   "source": [
    "model.classes_"
   ]
  },
  {
   "cell_type": "code",
   "execution_count": 426,
   "metadata": {},
   "outputs": [
    {
     "name": "stdout",
     "output_type": "stream",
     "text": [
      "Poprawne predykcje: 211\n",
      "False Positive: 52\n",
      "False Negative: 0\n",
      "Skierowania na dodatkowe badania: 489\n"
     ]
    }
   ],
   "source": [
    "skierowania = 0\n",
    "poprawne = 0\n",
    "FP = 0\n",
    "FN = 0\n",
    "for idx in range(0, len(X)):\n",
    "    row = X.iloc[idx,:][features].to_numpy().reshape(1,-1)\n",
    "    prediction = model.predict_proba(row)[0]\n",
    "    if(prediction[0] > 0.883):\n",
    "        result = 0\n",
    "    elif(prediction[1] > 0.5):\n",
    "        result = 1 \n",
    "    else: result = -1\n",
    "    true_value = y.iloc[idx]\n",
    "    if (result == -1):\n",
    "        skierowania += 1\n",
    "    elif (result == true_value):\n",
    "        poprawne += 1\n",
    "    else: \n",
    "        if(true_value == 1):\n",
    "            FN +=1\n",
    "        else: \n",
    "            FP +=1\n",
    "print(\"Poprawne predykcje: %i\\nFalse Positive: %i\\nFalse Negative: %i\\nSkierowania na dodatkowe badania: %i\" %(poprawne, FP, FN, skierowania))"
   ]
  },
  {
   "attachments": {},
   "cell_type": "markdown",
   "metadata": {},
   "source": [
    "Po ręcznym zdefiniowaniu progów udało się wykluczyć wszystkie False Negative na całym zbiorze. Sprawiło to jednak, że ponad połowę pacjentów trzeba było skierować na dodatkowe badania. Pozytywnym aspektem jest to, że ok. 27% pacjentów udało się sklasyfikować z ogromnym prawdopodobieństem, że to dobra predykcja. Taki wynik nie jest taki zły na jaki wygląda, ponieważ trzeba pamiętać że nawet jeden przypadek False Negative jest całkowicie niedopuszczalny. \n"
   ]
  },
  {
   "cell_type": "code",
   "execution_count": 432,
   "metadata": {},
   "outputs": [
    {
     "name": "stdout",
     "output_type": "stream",
     "text": [
      "Poprawne predykcje: 338\n",
      "False Positive: 52\n",
      "False Negative: 6\n",
      "Skierowania na dodatkowe badania: 356\n"
     ]
    }
   ],
   "source": [
    "skierowania = 0\n",
    "poprawne = 0\n",
    "FP = 0\n",
    "FN = 0\n",
    "for idx in range(0, len(X)):\n",
    "    row = X.iloc[idx,:][features].to_numpy().reshape(1,-1)\n",
    "    prediction = model.predict_proba(row)[0]\n",
    "    if(prediction[0] > 0.805):\n",
    "        result = 0\n",
    "    elif(prediction[1] > 0.5):\n",
    "        result = 1 \n",
    "    else: result = -1\n",
    "    true_value = y.iloc[idx]\n",
    "    if (result == -1):\n",
    "        skierowania += 1\n",
    "    elif (result == true_value):\n",
    "        poprawne += 1\n",
    "    else: \n",
    "        if(true_value == 1):\n",
    "            FN +=1\n",
    "        else: \n",
    "            FP +=1\n",
    "print(\"Poprawne predykcje: %i\\nFalse Positive: %i\\nFalse Negative: %i\\nSkierowania na dodatkowe badania: %i\" %(poprawne, FP, FN, skierowania))"
   ]
  },
  {
   "attachments": {},
   "cell_type": "markdown",
   "metadata": {},
   "source": [
    "Gdyby z jakiekogolwiek powodu próg dozwolonych FN wynosiłby np. 1% (zamiast 0%) to wtedy model pozwoliłby na poprawną diagnozę prawie połowy pacjentów. "
   ]
  },
  {
   "attachments": {},
   "cell_type": "markdown",
   "metadata": {},
   "source": [
    "False Positive, czyli sytuacje kiedy całkowicie zdrowy zostanie zdiagnozowany jako chory nie są aż takie złe. Co prawda pacjent będzie niepotrzebnie zestresowany, ale każdego zdiagnozowanego i tak trzeba przebadać dokładniej, aby mieć 100% pewności więc ostatecznie nie zostałyby podjęte żadne kroki w leczeniu."
   ]
  }
 ],
 "metadata": {
  "kernelspec": {
   "display_name": "Python 3",
   "language": "python",
   "name": "python3"
  },
  "language_info": {
   "codemirror_mode": {
    "name": "ipython",
    "version": 3
   },
   "file_extension": ".py",
   "mimetype": "text/x-python",
   "name": "python",
   "nbconvert_exporter": "python",
   "pygments_lexer": "ipython3",
   "version": "3.10.5"
  },
  "orig_nbformat": 4,
  "vscode": {
   "interpreter": {
    "hash": "87516fdcb08f36a8cf8ba7189b4412414eaea80f5448517d57bf2e649f1a5344"
   }
  }
 },
 "nbformat": 4,
 "nbformat_minor": 2
}
