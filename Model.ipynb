{
 "cells": [
  {
   "cell_type": "code",
   "execution_count": 14,
   "metadata": {},
   "outputs": [],
   "source": [
    "import pandas as pd\n",
    "import numpy as np\n",
    "import matplotlib.pyplot as plt\n",
    "import seaborn as sns\n",
    "import warnings\n",
    "from sklearn.linear_model import LogisticRegression\n",
    "from sklearn.model_selection import train_test_split\n",
    "from sklearn.model_selection import cross_val_score\n",
    "warnings.filterwarnings('ignore')\n",
    "from math import log"
   ]
  },
  {
   "cell_type": "code",
   "execution_count": 3,
   "metadata": {},
   "outputs": [],
   "source": [
    "def searchBestCValue(solver, penalty, X_train, y_train, X_val, y_val, min, max, step):\n",
    "    val_scores = []\n",
    "    train_scores = []\n",
    "    values = []\n",
    "    for C in np.arange(min, max, step):\n",
    "        model = LogisticRegression(random_state=None, solver=solver, penalty=penalty, C=C).fit(X_train, y_train)\n",
    "        score = model.score(X_val, y_val)\n",
    "        val_scores.append(score)\n",
    "        score = model.score(X_train, y_train)\n",
    "        train_scores.append(score)\n",
    "        values.append(C)\n",
    "    return val_scores, train_scores, values\n"
   ]
  },
  {
   "attachments": {},
   "cell_type": "markdown",
   "metadata": {},
   "source": [
    "# Dane wypełnione medianami"
   ]
  },
  {
   "attachments": {},
   "cell_type": "markdown",
   "metadata": {},
   "source": [
    "## Wczytanie danych"
   ]
  },
  {
   "cell_type": "code",
   "execution_count": 8,
   "metadata": {},
   "outputs": [],
   "source": [
    "data = pd.read_csv(\"data/imputated_data.csv\")\n",
    "data = data.drop(['Imputated'], axis=1)\n",
    "data = data.drop(['Unnamed: 0'], axis=1)"
   ]
  },
  {
   "attachments": {},
   "cell_type": "markdown",
   "metadata": {},
   "source": [
    "## Dodanie dodatkowych cech"
   ]
  },
  {
   "attachments": {},
   "cell_type": "markdown",
   "metadata": {},
   "source": [
    "Funkcje interakcji najlepiej sprawdzają się w przypadku cech, które na wykresie cecha1(cecha2) układają się mniej więcej wzdłuż funkcji x=y oraz wraz z x rośnie prawdopodobieństwo wystąpienia pozytywnej decyzji. Z pomocą wykresów korelacji znalazłem jeden taki przypadek: Glucose oraz BMI."
   ]
  },
  {
   "cell_type": "code",
   "execution_count": 57,
   "metadata": {},
   "outputs": [],
   "source": [
    "data['InsulinSquared'] = data['Insulin'].apply(lambda x: x**2)\n",
    "data['GlucoseSquared'] = data['Glucose'].apply(lambda x: x**2)\n",
    "data['InsulinGlucose'] = data['Insulin'] * data['Glucose']\n",
    "data['BMISquared'] = data['BMI'].apply(lambda x:(x**2))\n",
    "data['GlucoseBMI'] = data['Glucose'] * data['BMI']\n",
    "data['InsulinLog'] = data['Insulin'].apply(lambda x: log(x))"
   ]
  },
  {
   "attachments": {},
   "cell_type": "markdown",
   "metadata": {},
   "source": [
    "## Podział danych"
   ]
  },
  {
   "cell_type": "code",
   "execution_count": 58,
   "metadata": {},
   "outputs": [],
   "source": [
    "def splitDataset(X, y, random_state=0):\n",
    "    X_train, X_test, y_train, y_test = train_test_split(X, y, test_size=0.4, random_state=0)\n",
    "    X_test, X_val, y_test, y_val = train_test_split(X_test, y_test, test_size=0.5, random_state=0)\n",
    "    return X_train, y_train, X_test, y_test, X_val, y_val"
   ]
  },
  {
   "cell_type": "code",
   "execution_count": 59,
   "metadata": {},
   "outputs": [],
   "source": [
    "y = data['Outcome']\n",
    "X = data.drop([\"Outcome\"], axis=1)"
   ]
  },
  {
   "cell_type": "code",
   "execution_count": 60,
   "metadata": {},
   "outputs": [],
   "source": [
    "X_train, y_train, X_test, y_test, X_val, y_val = splitDataset(X, y, 0)"
   ]
  },
  {
   "attachments": {},
   "cell_type": "markdown",
   "metadata": {},
   "source": [
    "## Dobór parametrów"
   ]
  },
  {
   "cell_type": "code",
   "execution_count": 61,
   "metadata": {},
   "outputs": [],
   "source": [
    "def testModelParameters(solver, penalty, X_train, y_train, X_val, y_val, plot=True, print_result=True):\n",
    "    val_scores, train_scores, values = searchBestCValue('liblinear', 'l1', X_train, y_train, X_val, y_val, 0.1, 2, 0.01)\n",
    "    if (plot):\n",
    "        plt.figure()\n",
    "        plt.plot(values, val_scores)\n",
    "        plt.plot(values, train_scores)\n",
    "        plt.show()\n",
    "    max = np.max(val_scores)\n",
    "    idx = val_scores.index(max)\n",
    "    C = values[idx]\n",
    "    if(print_result):\n",
    "        print(\"Największa skutecznośc na zbiorze walidacyjnym: %.4f \\ndla współczynnika C = %.4f\" %(max, C))\n",
    "    return solver, penalty, C, max"
   ]
  },
  {
   "cell_type": "code",
   "execution_count": 23,
   "metadata": {},
   "outputs": [
    {
     "data": {
      "image/png": "[encoded data removed]",
      "text/plain": [
       "<Figure size 432x288 with 1 Axes>"
      ]
     },
     "metadata": {
      "needs_background": "light"
     },
     "output_type": "display_data"
    },
    {
     "name": "stdout",
     "output_type": "stream",
     "text": [
      "Największa skutecznośc na zbiorze walidacyjnym: 0.8146 \n",
      "dla współczynnika C = 1.6700\n"
     ]
    }
   ],
   "source": [
    "solver, penalty, C, max = testModelParameters('liblinear','l1', X_train, y_train, X_val, y_val)"
   ]
  },
  {
   "cell_type": "code",
   "execution_count": 24,
   "metadata": {},
   "outputs": [
    {
     "data": {
      "image/png": "[encoded data removed]",
      "text/plain": [
       "<Figure size 432x288 with 1 Axes>"
      ]
     },
     "metadata": {
      "needs_background": "light"
     },
     "output_type": "display_data"
    },
    {
     "name": "stdout",
     "output_type": "stream",
     "text": [
      "Największa skutecznośc na zbiorze walidacyjnym: 0.8146 \n",
      "dla współczynnika C = 1.6400\n"
     ]
    }
   ],
   "source": [
    "solver, penalty, C, max = testModelParameters('liblinear','l2', X_train, y_train, X_val, y_val)"
   ]
  },
  {
   "cell_type": "code",
   "execution_count": 67,
   "metadata": {},
   "outputs": [
    {
     "name": "stdout",
     "output_type": "stream",
     "text": [
      "Dla tego etapu najlepszy wynik wynosi cv_score: 0.7537 , test_score: 0.7467 dla zbioru cech:\n",
      "['GlucoseBMI']\n",
      "Dla tego etapu najlepszy wynik wynosi cv_score: 0.7515 , test_score: 0.7467 dla zbioru cech:\n",
      "['GlucoseBMI', 'BloodPressure']\n",
      "Dla tego etapu najlepszy wynik wynosi cv_score: 0.7537 , test_score: 0.7467 dla zbioru cech:\n",
      "['GlucoseBMI', 'BloodPressure', 'SkinThickness']\n",
      "Dla tego etapu najlepszy wynik wynosi cv_score: 0.7515 , test_score: 0.7667 dla zbioru cech:\n",
      "['GlucoseBMI', 'BloodPressure', 'SkinThickness', 'BMI']\n",
      "Dla tego etapu najlepszy wynik wynosi cv_score: 0.7515 , test_score: 0.7533 dla zbioru cech:\n",
      "['GlucoseBMI', 'BloodPressure', 'SkinThickness', 'BMI', 'GlucoseSquared']\n",
      "Dla tego etapu najlepszy wynik wynosi cv_score: 0.7472 , test_score: 0.7867 dla zbioru cech:\n",
      "['GlucoseBMI', 'BloodPressure', 'SkinThickness', 'BMI', 'GlucoseSquared', 'Pregnancies']\n",
      "Dla tego etapu najlepszy wynik wynosi cv_score: 0.7427 , test_score: 0.7867 dla zbioru cech:\n",
      "['GlucoseBMI', 'BloodPressure', 'SkinThickness', 'BMI', 'GlucoseSquared', 'Pregnancies', 'Glucose']\n",
      "Dla tego etapu najlepszy wynik wynosi cv_score: 0.7427 , test_score: 0.7733 dla zbioru cech:\n",
      "['GlucoseBMI', 'BloodPressure', 'SkinThickness', 'BMI', 'GlucoseSquared', 'Pregnancies', 'Glucose', 'Age']\n",
      "Dla tego etapu najlepszy wynik wynosi cv_score: 0.7449 , test_score: 0.7800 dla zbioru cech:\n",
      "['GlucoseBMI', 'BloodPressure', 'SkinThickness', 'BMI', 'GlucoseSquared', 'Pregnancies', 'Glucose', 'Age', 'DiabetesPedigreeFunction']\n",
      "Dla tego etapu najlepszy wynik wynosi cv_score: 0.7404 , test_score: 0.7733 dla zbioru cech:\n",
      "['GlucoseBMI', 'BloodPressure', 'SkinThickness', 'BMI', 'GlucoseSquared', 'Pregnancies', 'Glucose', 'Age', 'DiabetesPedigreeFunction', 'BMISquared']\n",
      "Dla tego etapu najlepszy wynik wynosi cv_score: 0.7294 , test_score: 0.7733 dla zbioru cech:\n",
      "['GlucoseBMI', 'BloodPressure', 'SkinThickness', 'BMI', 'GlucoseSquared', 'Pregnancies', 'Glucose', 'Age', 'DiabetesPedigreeFunction', 'BMISquared', 'InsulinSquared']\n",
      "Dla tego etapu najlepszy wynik wynosi cv_score: 0.7272 , test_score: 0.7733 dla zbioru cech:\n",
      "['GlucoseBMI', 'BloodPressure', 'SkinThickness', 'BMI', 'GlucoseSquared', 'Pregnancies', 'Glucose', 'Age', 'DiabetesPedigreeFunction', 'BMISquared', 'InsulinSquared', 'Insulin']\n",
      "Dla tego etapu najlepszy wynik wynosi cv_score: 0.7360 , test_score: 0.7533 dla zbioru cech:\n",
      "['GlucoseBMI', 'BloodPressure', 'SkinThickness', 'BMI', 'GlucoseSquared', 'Pregnancies', 'Glucose', 'Age', 'DiabetesPedigreeFunction', 'BMISquared', 'InsulinSquared', 'Insulin', 'InsulinLog']\n",
      "Dla tego etapu najlepszy wynik wynosi cv_score: 0.7360 , test_score: 0.7667 dla zbioru cech:\n",
      "['GlucoseBMI', 'BloodPressure', 'SkinThickness', 'BMI', 'GlucoseSquared', 'Pregnancies', 'Glucose', 'Age', 'DiabetesPedigreeFunction', 'BMISquared', 'InsulinSquared', 'Insulin', 'InsulinLog', 'InsulinGlucose']\n",
      "['GlucoseBMI', 'BloodPressure', 'SkinThickness', 'BMI', 'GlucoseSquared', 'Pregnancies', 'Glucose', 'Age', 'DiabetesPedigreeFunction', 'BMISquared', 'InsulinSquared', 'Insulin', 'InsulinLog', 'InsulinGlucose']\n",
      "0.7537484737484738\n",
      "['GlucoseBMI', 'BloodPressure', 'SkinThickness']\n"
     ]
    }
   ],
   "source": [
    "features = X.columns.values.tolist()\n",
    "result_features = []\n",
    "max_score = 0\n",
    "max_score_features = []\n",
    "model = LogisticRegression(random_state=None, solver='liblinear', penalty='l1', C=1.64)\n",
    "for n in range(0,len(features)):\n",
    "    tmp_max_score = 0\n",
    "    tmp_test_score = 0\n",
    "    best_features = []\n",
    "    for i,val in enumerate(features):\n",
    "        tmp_features = result_features.copy()\n",
    "        tmp_features.append(val)\n",
    "        score = cross_val_score(model, X_train[tmp_features], y_train)\n",
    "        score = np.abs(score).mean()\n",
    "        fitted_model = model.fit(X_train[tmp_features], y_train)\n",
    "        test_score = fitted_model.score(X_test[tmp_features], y_test)\n",
    "        #print(str(tmp_features) + \" : \" + str(score))\n",
    "        if( score > tmp_max_score ):\n",
    "            tmp_max_score = score\n",
    "            best_features = tmp_features\n",
    "            tmp_test_score = test_score\n",
    "        if( score > max_score):\n",
    "            max_score = score\n",
    "            max_score_features = tmp_features\n",
    "    result_features = best_features\n",
    "    print(\"Dla tego etapu najlepszy wynik wynosi cv_score: %.4f , test_score: %.4f dla zbioru cech:\\n%s\" % (tmp_max_score, tmp_test_score, str(best_features)))\n",
    "    features.remove(best_features[len(best_features)-1])\n",
    "print(result_features)\n",
    "print(max_score)\n",
    "print(max_score_features)"
   ]
  },
  {
   "cell_type": "code",
   "execution_count": 54,
   "metadata": {},
   "outputs": [
    {
     "name": "stdout",
     "output_type": "stream",
     "text": [
      "[0.80434783 0.75555556 0.73333333 0.62222222 0.8        0.73333333\n",
      " 0.73333333 0.62222222 0.77777778 0.68888889]\n",
      "0.7271014492753624\n"
     ]
    },
    {
     "data": {
      "text/plain": [
       "array([[0.00085377, 0.21068226]])"
      ]
     },
     "execution_count": 54,
     "metadata": {},
     "output_type": "execute_result"
    }
   ],
   "source": [
    "model = LogisticRegression(solver='liblinear', penalty='l1', C=1.64).fit(X_train[['GlucoseBMI','DiabetesPedigreeFunction']], y_train)\n",
    "score = cross_val_score(model, X_train, y_train, cv=10)\n",
    "avg_score = np.abs(score).mean()\n",
    "print(score)\n",
    "print(avg_score)\n",
    "model.coef_"
   ]
  },
  {
   "cell_type": "code",
   "execution_count": 33,
   "metadata": {},
   "outputs": [
    {
     "name": "stdout",
     "output_type": "stream",
     "text": [
      "[0.79120879 0.66666667 0.76666667 0.67777778 0.73333333]\n",
      "0.7271306471306472\n"
     ]
    },
    {
     "data": {
      "text/plain": [
       "array([[ 1.20879065e-01,  3.04775990e-02, -1.53268620e-02,\n",
       "        -2.51776486e-03, -9.51054680e-03,  0.00000000e+00,\n",
       "         3.03496080e-01,  1.41600935e-02, -8.69703874e-06,\n",
       "        -1.42046078e-04,  7.40911263e-05, -7.96336899e-04,\n",
       "         1.16124714e-03]])"
      ]
     },
     "execution_count": 33,
     "metadata": {},
     "output_type": "execute_result"
    }
   ],
   "source": [
    "model = LogisticRegression(random_state=None, solver='liblinear', penalty='l1', C=1.64).fit(X_train, y_train)\n",
    "score = cross_val_score(model, X_train, y_train)\n",
    "avg_score = np.abs(score).mean()\n",
    "print(score)\n",
    "print(avg_score)\n",
    "model.coef_"
   ]
  },
  {
   "cell_type": "code",
   "execution_count": 44,
   "metadata": {},
   "outputs": [
    {
     "name": "stdout",
     "output_type": "stream",
     "text": [
      "0\n",
      "1\n",
      "2\n",
      "3\n",
      "4\n",
      "5\n",
      "6\n",
      "7\n",
      "8\n",
      "9\n",
      "[1.4499999999999995, 1.4399999999999995, 1.4899999999999993, 1.4899999999999993, 1.4599999999999995, 1.4499999999999995, 1.4799999999999993, 1.4699999999999993, 1.4899999999999993, 1.4499999999999995]\n",
      "[0.8145695364238411, 0.8145695364238411, 0.8145695364238411, 0.8145695364238411, 0.8145695364238411, 0.8145695364238411, 0.8145695364238411, 0.8145695364238411, 0.8145695364238411, 0.8145695364238411]\n"
     ]
    }
   ],
   "source": [
    "values = []\n",
    "max_values = []\n",
    "for i in range(10):\n",
    "    print(i)\n",
    "    X_train, y_train, X_test, y_test, X_val, y_val = splitDataset(X, y, random_state=i)\n",
    "    solver, penalty, C, max = testModelParameters('liblinear','l2', X_train, y_train, X_val, y_val, plot=False, print=False)\n",
    "    values.append(C)\n",
    "    max_values.append(max)\n",
    "print(values)\n",
    "print(max_values)\n",
    "    "
   ]
  },
  {
   "cell_type": "code",
   "execution_count": 35,
   "metadata": {},
   "outputs": [
    {
     "name": "stdout",
     "output_type": "stream",
     "text": [
      "[0.7615894  0.74834437 0.76       0.78666667 0.77333333]\n",
      "[[ 1.22858438e-01  7.52431789e-02 -1.43070719e-02 -2.80329383e-03\n",
      "  -1.24195789e-02  8.60426555e-02  3.46797701e-01  1.05454765e-02\n",
      "  -9.07960153e-06 -1.71996077e-04  9.62394085e-05]]\n"
     ]
    }
   ],
   "source": [
    "\n",
    "model = LogisticRegression(random_state=None, solver='liblinear', penalty='l1', C=1.49).fit(X_train, y_train)\n",
    "scores = cross_val_score(model, X, y, cv=5 )\n",
    "print(scores)\n",
    "print(model.coef_)"
   ]
  },
  {
   "cell_type": "code",
   "execution_count": 36,
   "metadata": {},
   "outputs": [
    {
     "data": {
      "text/plain": [
       "array([0.7615894 , 0.74834437, 0.76      , 0.78666667, 0.77333333])"
      ]
     },
     "execution_count": 36,
     "metadata": {},
     "output_type": "execute_result"
    }
   ],
   "source": [
    "\n",
    "scores = cross_val_score(model, X, y, cv=5)\n",
    "scores"
   ]
  }
 ],
 "metadata": {
  "kernelspec": {
   "display_name": "Python 3",
   "language": "python",
   "name": "python3"
  },
  "language_info": {
   "codemirror_mode": {
    "name": "ipython",
    "version": 3
   },
   "file_extension": ".py",
   "mimetype": "text/x-python",
   "name": "python",
   "nbconvert_exporter": "python",
   "pygments_lexer": "ipython3",
   "version": "3.10.5 (tags/v3.10.5:f377153, Jun  6 2022, 16:14:13) [MSC v.1929 64 bit (AMD64)]"
  },
  "orig_nbformat": 4,
  "vscode": {
   "interpreter": {
    "hash": "87516fdcb08f36a8cf8ba7189b4412414eaea80f5448517d57bf2e649f1a5344"
   }
  }
 },
 "nbformat": 4,
 "nbformat_minor": 2
}
