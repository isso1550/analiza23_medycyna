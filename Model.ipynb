{
 "cells": [
  {
   "attachments": {},
   "cell_type": "markdown",
   "metadata": {},
   "source": [
    "# Inicjalizacja środowiska"
   ]
  },
  {
   "cell_type": "code",
   "execution_count": 16,
   "metadata": {},
   "outputs": [],
   "source": [
    "import pandas as pd\n",
    "import numpy as np\n",
    "import matplotlib.pyplot as plt\n",
    "import seaborn as sns\n",
    "import warnings\n",
    "from sklearn.linear_model import LogisticRegression\n",
    "from sklearn.model_selection import train_test_split\n",
    "from sklearn.model_selection import cross_val_score\n",
    "from sklearn import metrics\n",
    "warnings.filterwarnings('ignore')\n",
    "from math import log"
   ]
  },
  {
   "attachments": {},
   "cell_type": "markdown",
   "metadata": {},
   "source": [
    "## Funkcje pomocnicze"
   ]
  },
  {
   "cell_type": "code",
   "execution_count": 127,
   "metadata": {},
   "outputs": [],
   "source": [
    "def searchBestCValue(solver, penalty, X_train, y_train, X_val, y_val, min, max, step):\n",
    "    scores = []\n",
    "    values = []\n",
    "    for C in np.arange(min, max, step):\n",
    "        model = LogisticRegression(random_state=None, solver=solver, penalty=penalty, C=C).fit(X_train, y_train)\n",
    "        y_pred = model.predict(X_val)\n",
    "        score = metrics.f1_score(y_true=y_val, y_pred=y_pred)\n",
    "        score = metrics.accuracy_score(y_val, y_pred)\n",
    "        scores.append(score)\n",
    "\n",
    "        values.append(C)\n",
    "    return scores, values\n",
    "\n",
    "def testModelParameters(solver, penalty, X_train, y_train, X_val, y_val, plot=True, print_result=True):\n",
    "    #0.1 2 0.01\n",
    "    #0.01, 20, 0.5\n",
    "    val_scores, values = searchBestCValue(solver, penalty, X_train, y_train, X_val, y_val, 0.01, 100, 1)\n",
    "    if (plot):\n",
    "        plt.figure()\n",
    "        plt.plot(values, val_scores)\n",
    "        plt.show()\n",
    "    max = np.max(val_scores)\n",
    "    idx = val_scores.index(max)\n",
    "    C = values[idx]\n",
    "    if(print_result):\n",
    "        print(\"Największa wartość Accuracy na zbiorze walidacyjnym: %.4f \\ndla współczynnika C = %.4f\" %(max, C))\n",
    "    return solver, penalty, C, max\n"
   ]
  },
  {
   "attachments": {},
   "cell_type": "markdown",
   "metadata": {},
   "source": [
    "# Dane wypełnione medianami"
   ]
  },
  {
   "attachments": {},
   "cell_type": "markdown",
   "metadata": {},
   "source": [
    "## Wczytanie danych"
   ]
  },
  {
   "cell_type": "code",
   "execution_count": 110,
   "metadata": {},
   "outputs": [],
   "source": [
    "data = pd.read_csv(\"data/imputated_data.csv\")\n",
    "data = data.drop(['Imputated'], axis=1)\n",
    "data = data.drop(['Unnamed: 0'], axis=1)"
   ]
  },
  {
   "attachments": {},
   "cell_type": "markdown",
   "metadata": {},
   "source": [
    "## Dodanie dodatkowych cech"
   ]
  },
  {
   "attachments": {},
   "cell_type": "markdown",
   "metadata": {},
   "source": [
    "Funkcje interakcji najlepiej sprawdzają się w przypadku cech, które na wykresie cecha1(cecha2) układają się mniej więcej wzdłuż funkcji x=y oraz wraz z x rośnie prawdopodobieństwo wystąpienia pozytywnej decyzji. Z pomocą wykresów korelacji znalazłem jeden taki przypadek: Glucose oraz BMI."
   ]
  },
  {
   "cell_type": "code",
   "execution_count": 115,
   "metadata": {},
   "outputs": [],
   "source": [
    "data['InsulinSquared'] = data['Insulin'].apply(lambda x: x**2)\n",
    "data['GlucoseSquared'] = data['Glucose'].apply(lambda x: x**2)\n",
    "data['InsulinGlucose'] = data['Insulin'] * data['Glucose']\n",
    "data['BMISquared'] = data['BMI'].apply(lambda x:(x**2))\n",
    "data['GlucoseBMI'] = data['Glucose'] * data['BMI']\n",
    "data['InsulinLog'] = data['Insulin'].apply(lambda x: log(x))\n",
    "data['BloodPressureSquared'] =  data['BloodPressure'].apply(lambda x: x**2)\n",
    "data['SkinThicknessBMI'] = data['BMI'] * data['SkinThickness']"
   ]
  },
  {
   "attachments": {},
   "cell_type": "markdown",
   "metadata": {},
   "source": [
    "## Podział danych\n",
    "* Podział na zbiory X (cehcy opisujące) oraz Y (cecha opisywana). Dla tego zbioru Y to \"Outcome\", czyli diagnoza.\n",
    "* Podział na zbiory Train/Test/Val - procentowy podział w komentarzu funkcji splitDataset()"
   ]
  },
  {
   "cell_type": "code",
   "execution_count": 91,
   "metadata": {},
   "outputs": [],
   "source": [
    "def splitDataset(X, y, random_state=0, print_result=False):\n",
    "    #Podział Train 60%, Test 20%, Val 20%\n",
    "    X_train, X_test, y_train, y_test = train_test_split(X, y, test_size=0.4, random_state=random_state)\n",
    "    #0.5 * 0.4 = 0.2\n",
    "    X_test, X_val, y_test, y_val = train_test_split(X_test, y_test, test_size=0.5, random_state=random_state)\n",
    "    print(\"Zbiór podzielony: TRAIN: %i, VAL: %i, TEST: %i\" % (X_train.shape[0],X_val.shape[0],X_test.shape[0]))\n",
    "    return X_train, y_train, X_test, y_test, X_val, y_val"
   ]
  },
  {
   "cell_type": "code",
   "execution_count": 120,
   "metadata": {},
   "outputs": [],
   "source": [
    "y = data['Outcome']\n",
    "X = data.drop([\"Outcome\"], axis=1)"
   ]
  },
  {
   "cell_type": "code",
   "execution_count": 121,
   "metadata": {},
   "outputs": [
    {
     "name": "stdout",
     "output_type": "stream",
     "text": [
      "Zbiór podzielony: TRAIN: 451, VAL: 151, TEST: 150\n"
     ]
    }
   ],
   "source": [
    "X_train, y_train, X_test, y_test, X_val, y_val = splitDataset(X, y, random_state=5, print_result=True)"
   ]
  },
  {
   "attachments": {},
   "cell_type": "markdown",
   "metadata": {},
   "source": [
    "### Wybór ilości cech"
   ]
  },
  {
   "attachments": {},
   "cell_type": "markdown",
   "metadata": {},
   "source": [
    "Do doboru cech wykorzystuje metodę zachłanną. Model ma jednak włączoną regularyzację Lasso, dzięki czemu przy okazji będzie pozbywał się lub redukował wpływ tych mniej znaczących cech zmniejszając ich szansę na zostanie wybraną w danym etapie. Dla każdego etapu dodatkowo liczone jest współczynnik regularyzacji oferujący najlepszy wynik miary Accuracy. Zaimplementowałem to, ponieważ dla różnych ilości cech modele działają najlepiej dla różnych wartości C. Ponieważ regularyzacja jest stosowana za każdym razem to nie trzeba się obawiać overfittingu (choć później dla pewności należy sprawdzić), dzięki czemu zastosowanie samej miary Accuracy powinno wystarczyć do tego zadania."
   ]
  },
  {
   "cell_type": "code",
   "execution_count": 79,
   "metadata": {},
   "outputs": [
    {
     "name": "stdout",
     "output_type": "stream",
     "text": [
      "Dla tego etapu najlepszy wynik wynosi cv_score: 0.7537 , test_score: 0.7467 dla zbioru cech:\n",
      "['GlucoseBMI']\n",
      "Dla najlepszego współczynnika C = 1.010000 maksymalna skuteczność na zbiorze walidacyjnym wynosi 0.7881\n",
      "___________________________________________________________________________\n",
      "Dla tego etapu najlepszy wynik wynosi cv_score: 0.7537 , test_score: 0.7400 dla zbioru cech:\n",
      "['GlucoseBMI', 'DiabetesPedigreeFunction']\n",
      "Dla najlepszego współczynnika C = 6.010000 maksymalna skuteczność na zbiorze walidacyjnym wynosi 0.8013\n",
      "___________________________________________________________________________\n",
      "Dla tego etapu najlepszy wynik wynosi cv_score: 0.7582 , test_score: 0.7667 dla zbioru cech:\n",
      "['GlucoseBMI', 'DiabetesPedigreeFunction', 'BMI']\n",
      "Dla najlepszego współczynnika C = 10.010000 maksymalna skuteczność na zbiorze walidacyjnym wynosi 0.8079\n",
      "___________________________________________________________________________\n",
      "Dla tego etapu najlepszy wynik wynosi cv_score: 0.7537 , test_score: 0.7600 dla zbioru cech:\n",
      "['GlucoseBMI', 'DiabetesPedigreeFunction', 'BMI', 'GlucoseSquared']\n",
      "Dla najlepszego współczynnika C = 1.010000 maksymalna skuteczność na zbiorze walidacyjnym wynosi 0.8013\n",
      "___________________________________________________________________________\n",
      "Dla tego etapu najlepszy wynik wynosi cv_score: 0.7493 , test_score: 0.7600 dla zbioru cech:\n",
      "['GlucoseBMI', 'DiabetesPedigreeFunction', 'BMI', 'GlucoseSquared', 'BloodPressure']\n",
      "Dla najlepszego współczynnika C = 62.010000 maksymalna skuteczność na zbiorze walidacyjnym wynosi 0.8079\n",
      "___________________________________________________________________________\n",
      "Dla tego etapu najlepszy wynik wynosi cv_score: 0.7471 , test_score: 0.7600 dla zbioru cech:\n",
      "['GlucoseBMI', 'DiabetesPedigreeFunction', 'BMI', 'GlucoseSquared', 'BloodPressure', 'BloodPressureSquared']\n",
      "Dla najlepszego współczynnika C = 5.010000 maksymalna skuteczność na zbiorze walidacyjnym wynosi 0.8079\n",
      "___________________________________________________________________________\n",
      "Dla tego etapu najlepszy wynik wynosi cv_score: 0.7471 , test_score: 0.7533 dla zbioru cech:\n",
      "['GlucoseBMI', 'DiabetesPedigreeFunction', 'BMI', 'GlucoseSquared', 'BloodPressure', 'BloodPressureSquared', 'SkinThickness']\n",
      "Dla najlepszego współczynnika C = 7.010000 maksymalna skuteczność na zbiorze walidacyjnym wynosi 0.8079\n",
      "___________________________________________________________________________\n",
      "Dla tego etapu najlepszy wynik wynosi cv_score: 0.7427 , test_score: 0.7667 dla zbioru cech:\n",
      "['GlucoseBMI', 'DiabetesPedigreeFunction', 'BMI', 'GlucoseSquared', 'BloodPressure', 'BloodPressureSquared', 'SkinThickness', 'Age']\n",
      "Dla najlepszego współczynnika C = 4.010000 maksymalna skuteczność na zbiorze walidacyjnym wynosi 0.8212\n",
      "___________________________________________________________________________\n",
      "Dla tego etapu najlepszy wynik wynosi cv_score: 0.7361 , test_score: 0.7800 dla zbioru cech:\n",
      "['GlucoseBMI', 'DiabetesPedigreeFunction', 'BMI', 'GlucoseSquared', 'BloodPressure', 'BloodPressureSquared', 'SkinThickness', 'Age', 'Glucose']\n",
      "Dla najlepszego współczynnika C = 99.010000 maksymalna skuteczność na zbiorze walidacyjnym wynosi 0.8146\n",
      "___________________________________________________________________________\n",
      "Dla tego etapu najlepszy wynik wynosi cv_score: 0.7427 , test_score: 0.7867 dla zbioru cech:\n",
      "['GlucoseBMI', 'DiabetesPedigreeFunction', 'BMI', 'GlucoseSquared', 'BloodPressure', 'BloodPressureSquared', 'SkinThickness', 'Age', 'Glucose', 'SkinThicknessBMI']\n",
      "Dla najlepszego współczynnika C = 11.010000 maksymalna skuteczność na zbiorze walidacyjnym wynosi 0.8146\n",
      "___________________________________________________________________________\n",
      "Dla tego etapu najlepszy wynik wynosi cv_score: 0.7405 , test_score: 0.7800 dla zbioru cech:\n",
      "['GlucoseBMI', 'DiabetesPedigreeFunction', 'BMI', 'GlucoseSquared', 'BloodPressure', 'BloodPressureSquared', 'SkinThickness', 'Age', 'Glucose', 'SkinThicknessBMI', 'Pregnancies']\n",
      "Dla najlepszego współczynnika C = 4.010000 maksymalna skuteczność na zbiorze walidacyjnym wynosi 0.8013\n",
      "___________________________________________________________________________\n",
      "Dla tego etapu najlepszy wynik wynosi cv_score: 0.7272 , test_score: 0.7667 dla zbioru cech:\n",
      "['GlucoseBMI', 'DiabetesPedigreeFunction', 'BMI', 'GlucoseSquared', 'BloodPressure', 'BloodPressureSquared', 'SkinThickness', 'Age', 'Glucose', 'SkinThicknessBMI', 'Pregnancies', 'BMISquared']\n",
      "Dla najlepszego współczynnika C = 22.010000 maksymalna skuteczność na zbiorze walidacyjnym wynosi 0.8013\n",
      "___________________________________________________________________________\n",
      "Dla tego etapu najlepszy wynik wynosi cv_score: 0.7206 , test_score: 0.7533 dla zbioru cech:\n",
      "['GlucoseBMI', 'DiabetesPedigreeFunction', 'BMI', 'GlucoseSquared', 'BloodPressure', 'BloodPressureSquared', 'SkinThickness', 'Age', 'Glucose', 'SkinThicknessBMI', 'Pregnancies', 'BMISquared', 'Insulin']\n",
      "Dla najlepszego współczynnika C = 15.010000 maksymalna skuteczność na zbiorze walidacyjnym wynosi 0.8146\n",
      "___________________________________________________________________________\n",
      "Dla tego etapu najlepszy wynik wynosi cv_score: 0.7250 , test_score: 0.7667 dla zbioru cech:\n",
      "['GlucoseBMI', 'DiabetesPedigreeFunction', 'BMI', 'GlucoseSquared', 'BloodPressure', 'BloodPressureSquared', 'SkinThickness', 'Age', 'Glucose', 'SkinThicknessBMI', 'Pregnancies', 'BMISquared', 'Insulin', 'InsulinGlucose']\n",
      "Dla najlepszego współczynnika C = 0.010000 maksymalna skuteczność na zbiorze walidacyjnym wynosi 0.8079\n",
      "___________________________________________________________________________\n",
      "Dla tego etapu najlepszy wynik wynosi cv_score: 0.7206 , test_score: 0.7600 dla zbioru cech:\n",
      "['GlucoseBMI', 'DiabetesPedigreeFunction', 'BMI', 'GlucoseSquared', 'BloodPressure', 'BloodPressureSquared', 'SkinThickness', 'Age', 'Glucose', 'SkinThicknessBMI', 'Pregnancies', 'BMISquared', 'Insulin', 'InsulinGlucose', 'InsulinSquared']\n",
      "Dla najlepszego współczynnika C = 24.010000 maksymalna skuteczność na zbiorze walidacyjnym wynosi 0.8079\n",
      "___________________________________________________________________________\n",
      "Dla tego etapu najlepszy wynik wynosi cv_score: 0.7316 , test_score: 0.7667 dla zbioru cech:\n",
      "['GlucoseBMI', 'DiabetesPedigreeFunction', 'BMI', 'GlucoseSquared', 'BloodPressure', 'BloodPressureSquared', 'SkinThickness', 'Age', 'Glucose', 'SkinThicknessBMI', 'Pregnancies', 'BMISquared', 'Insulin', 'InsulinGlucose', 'InsulinSquared', 'InsulinLog']\n",
      "Dla najlepszego współczynnika C = 5.010000 maksymalna skuteczność na zbiorze walidacyjnym wynosi 0.8146\n",
      "___________________________________________________________________________\n"
     ]
    }
   ],
   "source": [
    "features = X.columns.values.tolist()\n",
    "result_features = []\n",
    "\n",
    "cv_scores = []\n",
    "test_scores = []\n",
    "feature_numbers = []\n",
    "\n",
    "model = LogisticRegression(random_state=0, solver='liblinear', penalty='l1', C=4.1)\n",
    "for n in range(0,len(features)):\n",
    "    tmp_max_score = 0\n",
    "    tmp_test_score = 0\n",
    "    best_features = []\n",
    "    for i,val in enumerate(features):\n",
    "        tmp_features = result_features.copy()\n",
    "        tmp_features.append(val)\n",
    "        score = cross_val_score(model, X_train[tmp_features], y_train)\n",
    "        score = np.abs(score).mean()\n",
    "        fitted_model = model.fit(X_train[tmp_features], y_train)\n",
    "        test_score = fitted_model.score(X_test[tmp_features], y_test)\n",
    "        if( score > tmp_max_score ):\n",
    "            tmp_max_score = score\n",
    "            best_features = tmp_features\n",
    "            tmp_test_score = test_score\n",
    "    result_features = best_features\n",
    "    print(\"Dla tego etapu najlepszy wynik wynosi cv_score: %.4f , test_score: %.4f dla zbioru cech:\\n%s\" % (tmp_max_score, tmp_test_score, str(best_features)))\n",
    "    cv_scores.append(tmp_max_score)\n",
    "    test_scores.append(tmp_test_score)\n",
    "    feature_numbers.append(len(best_features))\n",
    "    solver, penalty, C, max = testModelParameters('liblinear','l1', X_train[best_features], y_train, X_val[best_features], y_val, plot=False, print_result=False)\n",
    "    print(\"Dla najlepszego współczynnika C = %f maksymalna skuteczność na zbiorze walidacyjnym wynosi %.4f\" % (C,max))\n",
    "    print(\"___________________________________________________________________________\")\n",
    "    features.remove(best_features[len(best_features)-1])"
   ]
  },
  {
   "cell_type": "code",
   "execution_count": 118,
   "metadata": {},
   "outputs": [
    {
     "data": {
      "image/png": "[encoded data removed]",
      "text/plain": [
       "<Figure size 432x288 with 1 Axes>"
      ]
     },
     "metadata": {
      "needs_background": "light"
     },
     "output_type": "display_data"
    }
   ],
   "source": [
    "plt.figure()\n",
    "plt.plot(feature_numbers, cv_scores)\n",
    "plt.plot(feature_numbers, test_scores)\n",
    "plt.show()"
   ]
  },
  {
   "cell_type": "code",
   "execution_count": 183,
   "metadata": {},
   "outputs": [],
   "source": [
    "features = ['GlucoseBMI', 'DiabetesPedigreeFunction', 'BMI', 'GlucoseSquared', 'BloodPressure', 'BloodPressureSquared', 'SkinThickness', 'Age']"
   ]
  },
  {
   "attachments": {},
   "cell_type": "markdown",
   "metadata": {},
   "source": [
    "# Dobór parametrów"
   ]
  },
  {
   "attachments": {},
   "cell_type": "markdown",
   "metadata": {},
   "source": [
    "## Metoda regularyzacji\n",
    "Ponieważ cechy są dobrane to model nie wymaga już redukcji ich wpływu lub usuwania, więc metoda Lasso nie jest tutaj oczywistym wyborem. Klasa LogisticRegression dla algorytmu liblinear oferuje regularyzacje L1 oraz L2. Wyboru można dokonać prostym porównaniem tych dwóch."
   ]
  },
  {
   "cell_type": "code",
   "execution_count": 184,
   "metadata": {},
   "outputs": [
    {
     "data": {
      "image/png": "[encoded data removed]",
      "text/plain": [
       "<Figure size 432x288 with 1 Axes>"
      ]
     },
     "metadata": {
      "needs_background": "light"
     },
     "output_type": "display_data"
    },
    {
     "name": "stdout",
     "output_type": "stream",
     "text": [
      "Największa wartość Accuracy na zbiorze walidacyjnym: 0.8013 \n",
      "dla współczynnika C = 7.0100\n"
     ]
    }
   ],
   "source": [
    "solver, penalty, C, max = testModelParameters('liblinear','l1', X_train[features], y_train, X_val[features], y_val)"
   ]
  },
  {
   "cell_type": "code",
   "execution_count": 185,
   "metadata": {},
   "outputs": [
    {
     "data": {
      "image/png": "[encoded data removed]",
      "text/plain": [
       "<Figure size 432x288 with 1 Axes>"
      ]
     },
     "metadata": {
      "needs_background": "light"
     },
     "output_type": "display_data"
    },
    {
     "name": "stdout",
     "output_type": "stream",
     "text": [
      "Największa wartość Accuracy na zbiorze walidacyjnym: 0.7881 \n",
      "dla współczynnika C = 4.0100\n"
     ]
    }
   ],
   "source": [
    "solver, penalty, C, max = testModelParameters('liblinear','l2', X_train[features], y_train, X_val[features], y_val)"
   ]
  },
  {
   "attachments": {},
   "cell_type": "markdown",
   "metadata": {},
   "source": [
    "# Wynik, czyli teoretycznie najlepszy model"
   ]
  },
  {
   "cell_type": "code",
   "execution_count": 133,
   "metadata": {},
   "outputs": [],
   "source": [
    "model = LogisticRegression(random_state=0, solver='liblinear', penalty='l1', C=4.01).fit(X_train[features], y_train)"
   ]
  },
  {
   "cell_type": "code",
   "execution_count": 134,
   "metadata": {},
   "outputs": [
    {
     "data": {
      "text/plain": [
       "array([[ 8.24542553e-04,  6.51034464e-01, -2.68610478e-02,\n",
       "         1.14827999e-05,  4.03333469e-02, -2.54516019e-04,\n",
       "        -9.64211980e-04,  2.71935324e-02]])"
      ]
     },
     "execution_count": 134,
     "metadata": {},
     "output_type": "execute_result"
    }
   ],
   "source": [
    "model.coef_"
   ]
  },
  {
   "cell_type": "code",
   "execution_count": 135,
   "metadata": {},
   "outputs": [
    {
     "data": {
      "text/plain": [
       "[<matplotlib.lines.Line2D at 0x1a66d289a20>]"
      ]
     },
     "execution_count": 135,
     "metadata": {},
     "output_type": "execute_result"
    },
    {
     "data": {
      "image/png": "[encoded data removed]",
      "text/plain": [
       "<Figure size 432x288 with 1 Axes>"
      ]
     },
     "metadata": {
      "needs_background": "light"
     },
     "output_type": "display_data"
    }
   ],
   "source": [
    "sorted = X_test.sort_values(by=\"GlucoseBMI\")\n",
    "model_values = (model.predict_proba(sorted[features]))\n",
    "model_values[:,1]\n",
    "plt.plot(sorted['GlucoseBMI'], model_values[:,1])"
   ]
  },
  {
   "attachments": {},
   "cell_type": "markdown",
   "metadata": {},
   "source": [
    "# Analiza utworzonego modelu"
   ]
  },
  {
   "cell_type": "code",
   "execution_count": 189,
   "metadata": {},
   "outputs": [],
   "source": [
    "model = LogisticRegression(solver='liblinear', penalty='l1', C=4.1).fit(X_train[features], y_train) #4.1"
   ]
  },
  {
   "cell_type": "code",
   "execution_count": 190,
   "metadata": {},
   "outputs": [],
   "source": [
    "y_pred = model.predict(X_test[features])"
   ]
  },
  {
   "cell_type": "code",
   "execution_count": 191,
   "metadata": {},
   "outputs": [],
   "source": [
    "accuracy = metrics.accuracy_score(y_test, y_pred)\n",
    "precision = metrics.precision_score(y_test, y_pred)\n",
    "recall = metrics.recall_score(y_test, y_pred)\n",
    "f1score = metrics.f1_score(y_test, y_pred)"
   ]
  },
  {
   "cell_type": "code",
   "execution_count": 192,
   "metadata": {},
   "outputs": [
    {
     "name": "stdout",
     "output_type": "stream",
     "text": [
      "Accuracy: 0.786667\n",
      "Precision: 0.717949\n",
      "Recall: 0.571429\n",
      "F1Score: 0.636364\n"
     ]
    }
   ],
   "source": [
    "print(\"Accuracy: %f\\nPrecision: %f\\nRecall: %f\\nF1Score: %f\" % (accuracy, precision, recall, f1score))"
   ]
  },
  {
   "cell_type": "code",
   "execution_count": 193,
   "metadata": {},
   "outputs": [
    {
     "data": {
      "text/plain": [
       "array([[90, 11],\n",
       "       [21, 28]], dtype=int64)"
      ]
     },
     "execution_count": 193,
     "metadata": {},
     "output_type": "execute_result"
    }
   ],
   "source": [
    "metrics.confusion_matrix(y_test, y_pred)"
   ]
  },
  {
   "cell_type": "code",
   "execution_count": 146,
   "metadata": {},
   "outputs": [
    {
     "data": {
      "text/plain": [
       "array([-6.81755386])"
      ]
     },
     "execution_count": 146,
     "metadata": {},
     "output_type": "execute_result"
    }
   ],
   "source": [
    "model.intercept_"
   ]
  },
  {
   "cell_type": "code",
   "execution_count": 164,
   "metadata": {},
   "outputs": [
    {
     "data": {
      "text/plain": [
       "array([0, 1], dtype=int64)"
      ]
     },
     "execution_count": 164,
     "metadata": {},
     "output_type": "execute_result"
    }
   ],
   "source": [
    "model.classes_"
   ]
  },
  {
   "cell_type": "code",
   "execution_count": 182,
   "metadata": {},
   "outputs": [
    {
     "data": {
      "text/plain": [
       "array([[61, 40],\n",
       "       [ 2, 47]], dtype=int64)"
      ]
     },
     "execution_count": 182,
     "metadata": {},
     "output_type": "execute_result"
    }
   ],
   "source": [
    "y_pred = 1*model.predict_proba(X_test[features])[:,1] > 0.2\n",
    "metrics.confusion_matrix(y_test, y_pred)"
   ]
  },
  {
   "cell_type": "code",
   "execution_count": 61,
   "metadata": {},
   "outputs": [
    {
     "name": "stdout",
     "output_type": "stream",
     "text": [
      "[[0.17883669 0.82116331]]\n",
      "[1]\n",
      "0.6922917900197856\n",
      "1\n"
     ]
    }
   ],
   "source": [
    "idx = 8\n",
    "model = LogisticRegression(random_state=0, solver='liblinear', penalty='l1',C=1.69).fit(X_train, y_train)\n",
    "prediction = model.predict_proba(X.iloc[idx,:].values.reshape(1,-1))\n",
    "print(prediction)\n",
    "prediction = model.predict(X.iloc[idx,:].values.reshape(1,-1))\n",
    "print(prediction)\n",
    "pinw = np.linalg.pinv(X_train)\n",
    "w = np.dot(pinw,y_train)\n",
    "prediction = (w*X.iloc[idx,:]).sum()\n",
    "print(prediction)\n",
    "print(y.iloc[idx])"
   ]
  },
  {
   "cell_type": "code",
   "execution_count": 83,
   "metadata": {},
   "outputs": [
    {
     "name": "stdout",
     "output_type": "stream",
     "text": [
      "Metoda macierzowa\n",
      "[[92 12]\n",
      " [17 30]]\n",
      "LogisticRegression\n",
      "[[92 12]\n",
      " [15 32]]\n"
     ]
    }
   ],
   "source": [
    "print(\"Metoda macierzowa\")\n",
    "y_pred = ((w*X_val).sum(axis=1) > 0.5) * 1\n",
    "print(metrics.confusion_matrix(y_val, y_pred))\n",
    "\n",
    "print(\"LogisticRegression\")\n",
    "model = LogisticRegression(random_state=0, solver='liblinear', penalty='l1',C=4.51).fit(X_train, y_train)\n",
    "y_pred = model.predict(X_val)\n",
    "print(metrics.confusion_matrix(y_val, y_pred))"
   ]
  },
  {
   "cell_type": "code",
   "execution_count": 17,
   "metadata": {},
   "outputs": [
    {
     "ename": "NameError",
     "evalue": "name 'w' is not defined",
     "output_type": "error",
     "traceback": [
      "\u001b[1;31m---------------------------------------------------------------------------\u001b[0m",
      "\u001b[1;31mNameError\u001b[0m                                 Traceback (most recent call last)",
      "\u001b[1;32m~\\AppData\\Local\\Temp/ipykernel_3972/3732029154.py\u001b[0m in \u001b[0;36m<module>\u001b[1;34m\u001b[0m\n\u001b[1;32m----> 1\u001b[1;33m \u001b[0my_pred\u001b[0m \u001b[1;33m=\u001b[0m \u001b[1;33m(\u001b[0m\u001b[1;33m(\u001b[0m\u001b[0mw\u001b[0m\u001b[1;33m*\u001b[0m\u001b[0mX_test\u001b[0m\u001b[1;33m)\u001b[0m\u001b[1;33m.\u001b[0m\u001b[0msum\u001b[0m\u001b[1;33m(\u001b[0m\u001b[0maxis\u001b[0m\u001b[1;33m=\u001b[0m\u001b[1;36m1\u001b[0m\u001b[1;33m)\u001b[0m \u001b[1;33m>\u001b[0m \u001b[1;36m0.5\u001b[0m\u001b[1;33m)\u001b[0m \u001b[1;33m*\u001b[0m \u001b[1;36m1\u001b[0m\u001b[1;33m\u001b[0m\u001b[1;33m\u001b[0m\u001b[0m\n\u001b[0m\u001b[0;32m      2\u001b[0m \u001b[0mcorrect\u001b[0m \u001b[1;33m=\u001b[0m \u001b[1;33m(\u001b[0m\u001b[0my_pred\u001b[0m \u001b[1;33m==\u001b[0m \u001b[0my_test\u001b[0m\u001b[1;33m)\u001b[0m\u001b[1;33m.\u001b[0m\u001b[0msum\u001b[0m\u001b[1;33m(\u001b[0m\u001b[1;33m)\u001b[0m\u001b[1;33m\u001b[0m\u001b[1;33m\u001b[0m\u001b[0m\n\u001b[0;32m      3\u001b[0m \u001b[0mcorrect\u001b[0m\u001b[1;33m/\u001b[0m\u001b[0mlen\u001b[0m\u001b[1;33m(\u001b[0m\u001b[0my_pred\u001b[0m\u001b[1;33m)\u001b[0m\u001b[1;33m\u001b[0m\u001b[1;33m\u001b[0m\u001b[0m\n",
      "\u001b[1;31mNameError\u001b[0m: name 'w' is not defined"
     ]
    }
   ],
   "source": [
    "y_pred = ((w*X_test).sum(axis=1) > 0.5) * 1\n",
    "correct = (y_pred == y_test).sum()\n",
    "correct/len(y_pred)"
   ]
  },
  {
   "cell_type": "code",
   "execution_count": 86,
   "metadata": {},
   "outputs": [
    {
     "name": "stdout",
     "output_type": "stream",
     "text": [
      "[[ 1.25840154e-01  6.08128459e-02 -1.71398830e-02  1.12659022e-03\n",
      "   2.38570027e-02  1.04679083e-01  5.34846100e-01  1.00882071e-02\n",
      "  -4.93796265e-05 -1.96511440e-04  1.06463493e-04 -1.31885213e-03\n",
      "   5.94369528e-04 -2.83807672e+00]]\n"
     ]
    },
    {
     "data": {
      "text/plain": [
       "0.7508183306055647"
      ]
     },
     "execution_count": 86,
     "metadata": {},
     "output_type": "execute_result"
    }
   ],
   "source": [
    "model = LogisticRegression(random_state=0, solver='liblinear', penalty='l1',C=1.69).fit(X_train, y_train)\n",
    "model.score(X_test, y_test)\n",
    "print(model.coef_)\n",
    "y_pred = model.predict(X_val)\n",
    "metrics.roc_auc_score(y_val,y_pred )"
   ]
  },
  {
   "cell_type": "code",
   "execution_count": 35,
   "metadata": {},
   "outputs": [
    {
     "name": "stdout",
     "output_type": "stream",
     "text": [
      "[0.7615894  0.74834437 0.76       0.78666667 0.77333333]\n",
      "[[ 1.22858438e-01  7.52431789e-02 -1.43070719e-02 -2.80329383e-03\n",
      "  -1.24195789e-02  8.60426555e-02  3.46797701e-01  1.05454765e-02\n",
      "  -9.07960153e-06 -1.71996077e-04  9.62394085e-05]]\n"
     ]
    }
   ],
   "source": [
    "\n",
    "model = LogisticRegression(random_state=None, solver='liblinear', penalty='l1', C=1.49).fit(X_train, y_train)\n",
    "scores = cross_val_score(model, X, y, cv=5 )\n",
    "print(scores)\n",
    "print(model.coef_)"
   ]
  },
  {
   "cell_type": "code",
   "execution_count": 36,
   "metadata": {},
   "outputs": [
    {
     "data": {
      "text/plain": [
       "array([0.7615894 , 0.74834437, 0.76      , 0.78666667, 0.77333333])"
      ]
     },
     "execution_count": 36,
     "metadata": {},
     "output_type": "execute_result"
    }
   ],
   "source": [
    "\n",
    "scores = cross_val_score(model, X, y, cv=5)\n",
    "scores"
   ]
  },
  {
   "attachments": {},
   "cell_type": "markdown",
   "metadata": {},
   "source": [
    "# Testowanie modelu #\n",
    "#TODO"
   ]
  },
  {
   "attachments": {},
   "cell_type": "markdown",
   "metadata": {},
   "source": [
    "# Wypełnienie braków przy użyciu regresji\n",
    "#TODO"
   ]
  }
 ],
 "metadata": {
  "kernelspec": {
   "display_name": "Python 3",
   "language": "python",
   "name": "python3"
  },
  "language_info": {
   "codemirror_mode": {
    "name": "ipython",
    "version": 3
   },
   "file_extension": ".py",
   "mimetype": "text/x-python",
   "name": "python",
   "nbconvert_exporter": "python",
   "pygments_lexer": "ipython3",
   "version": "3.10.5"
  },
  "orig_nbformat": 4,
  "vscode": {
   "interpreter": {
    "hash": "87516fdcb08f36a8cf8ba7189b4412414eaea80f5448517d57bf2e649f1a5344"
   }
  }
 },
 "nbformat": 4,
 "nbformat_minor": 2
}
